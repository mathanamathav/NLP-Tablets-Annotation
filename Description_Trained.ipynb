{
  "nbformat": 4,
  "nbformat_minor": 0,
  "metadata": {
    "colab": {
      "provenance": [],
      "include_colab_link": true
    },
    "kernelspec": {
      "name": "python3",
      "display_name": "Python 3"
    },
    "language_info": {
      "name": "python"
    },
    "accelerator": "GPU",
    "gpuClass": "standard"
  },
  "cells": [
    {
      "cell_type": "markdown",
      "metadata": {
        "id": "view-in-github",
        "colab_type": "text"
      },
      "source": [
        "<a href=\"https://colab.research.google.com/github/jegadeesh2001/NLP-Tablets-Annotation/blob/main/Description_Trained.ipynb\" target=\"_parent\"><img src=\"https://colab.research.google.com/assets/colab-badge.svg\" alt=\"Open In Colab\"/></a>"
      ]
    },
    {
      "cell_type": "code",
      "source": [
        "!pip install transformers"
      ],
      "metadata": {
        "id": "zJL0nGMWqTBO"
      },
      "execution_count": null,
      "outputs": []
    },
    {
      "cell_type": "code",
      "source": [
        "import pandas as pd"
      ],
      "metadata": {
        "id": "1h87KOeXiA3y"
      },
      "execution_count": null,
      "outputs": []
    },
    {
      "cell_type": "code",
      "source": [
        "df=pd.read_csv('/content/liver_text_data.csv')"
      ],
      "metadata": {
        "id": "Ss0-M14ZhQ9x"
      },
      "execution_count": null,
      "outputs": []
    },
    {
      "cell_type": "code",
      "source": [
        "df"
      ],
      "metadata": {
        "colab": {
          "base_uri": "https://localhost:8080/",
          "height": 423
        },
        "id": "8bHOESfiiC41",
        "outputId": "84fd9f94-a443-4a1b-badc-afbf9ff43bc5"
      },
      "execution_count": null,
      "outputs": [
        {
          "output_type": "execute_result",
          "data": {
            "text/plain": [
              "    Unnamed: 0                                               link  \\\n",
              "0            0  https://www.netmeds.com/images/product-v1/600x...   \n",
              "1            1  https://www.netmeds.com/images/product-v1/600x...   \n",
              "2            2  https://www.netmeds.com/images/product-v1/600x...   \n",
              "3            3  https://www.netmeds.com/images/product-v1/600x...   \n",
              "4            4  https://www.netmeds.com/images/product-v1/600x...   \n",
              "..         ...                                                ...   \n",
              "56          56  https://www.netmeds.com/images/product-v1/600x...   \n",
              "57          57  https://www.netmeds.com/images/product-v1/600x...   \n",
              "58          58  https://www.netmeds.com/images/product-v1/600x...   \n",
              "59          59  https://www.netmeds.com/images/product-v1/600x...   \n",
              "60          60  https://www.netmeds.com/images/product-v1/600x...   \n",
              "\n",
              "                                                 text  \n",
              "0   Ademetionine Tablets 400 mg Adefresh-400 T-400...  \n",
              "1   Composition: MfgLic.No.110/UA/SC/P-2006&110/UA...  \n",
              "2   Marketednce ASCENTRA Di   Ascentra 8/4Frnds Co...  \n",
              "3   SHNOWOE starta R0o Adenomnac 121% Manotactured...  \n",
              "4   Metadoxine Tablets ALCOLIV each uncoataotablet...  \n",
              "..                                                ...  \n",
              "56  AF AF Markotod by ammu-181130.Ind SD00.ar-rahT...  \n",
              "57  Metadoxine 500mg&Siymann 140mg ablets LivapeLi...  \n",
              "58  MICRO Metadoxine, Silymarin & L-Ornithine L-As...  \n",
              "59  Each film-coated tablet contains : Metadoxine ...  \n",
              "60  Hicroliv Forte Microliv Forto msera se Microli...  \n",
              "\n",
              "[61 rows x 3 columns]"
            ],
            "text/html": [
              "\n",
              "  <div id=\"df-6a16e642-a3bc-4bae-b5d1-124770cdf46e\">\n",
              "    <div class=\"colab-df-container\">\n",
              "      <div>\n",
              "<style scoped>\n",
              "    .dataframe tbody tr th:only-of-type {\n",
              "        vertical-align: middle;\n",
              "    }\n",
              "\n",
              "    .dataframe tbody tr th {\n",
              "        vertical-align: top;\n",
              "    }\n",
              "\n",
              "    .dataframe thead th {\n",
              "        text-align: right;\n",
              "    }\n",
              "</style>\n",
              "<table border=\"1\" class=\"dataframe\">\n",
              "  <thead>\n",
              "    <tr style=\"text-align: right;\">\n",
              "      <th></th>\n",
              "      <th>Unnamed: 0</th>\n",
              "      <th>link</th>\n",
              "      <th>text</th>\n",
              "    </tr>\n",
              "  </thead>\n",
              "  <tbody>\n",
              "    <tr>\n",
              "      <th>0</th>\n",
              "      <td>0</td>\n",
              "      <td>https://www.netmeds.com/images/product-v1/600x...</td>\n",
              "      <td>Ademetionine Tablets 400 mg Adefresh-400 T-400...</td>\n",
              "    </tr>\n",
              "    <tr>\n",
              "      <th>1</th>\n",
              "      <td>1</td>\n",
              "      <td>https://www.netmeds.com/images/product-v1/600x...</td>\n",
              "      <td>Composition: MfgLic.No.110/UA/SC/P-2006&amp;110/UA...</td>\n",
              "    </tr>\n",
              "    <tr>\n",
              "      <th>2</th>\n",
              "      <td>2</td>\n",
              "      <td>https://www.netmeds.com/images/product-v1/600x...</td>\n",
              "      <td>Marketednce ASCENTRA Di   Ascentra 8/4Frnds Co...</td>\n",
              "    </tr>\n",
              "    <tr>\n",
              "      <th>3</th>\n",
              "      <td>3</td>\n",
              "      <td>https://www.netmeds.com/images/product-v1/600x...</td>\n",
              "      <td>SHNOWOE starta R0o Adenomnac 121% Manotactured...</td>\n",
              "    </tr>\n",
              "    <tr>\n",
              "      <th>4</th>\n",
              "      <td>4</td>\n",
              "      <td>https://www.netmeds.com/images/product-v1/600x...</td>\n",
              "      <td>Metadoxine Tablets ALCOLIV each uncoataotablet...</td>\n",
              "    </tr>\n",
              "    <tr>\n",
              "      <th>...</th>\n",
              "      <td>...</td>\n",
              "      <td>...</td>\n",
              "      <td>...</td>\n",
              "    </tr>\n",
              "    <tr>\n",
              "      <th>56</th>\n",
              "      <td>56</td>\n",
              "      <td>https://www.netmeds.com/images/product-v1/600x...</td>\n",
              "      <td>AF AF Markotod by ammu-181130.Ind SD00.ar-rahT...</td>\n",
              "    </tr>\n",
              "    <tr>\n",
              "      <th>57</th>\n",
              "      <td>57</td>\n",
              "      <td>https://www.netmeds.com/images/product-v1/600x...</td>\n",
              "      <td>Metadoxine 500mg&amp;Siymann 140mg ablets LivapeLi...</td>\n",
              "    </tr>\n",
              "    <tr>\n",
              "      <th>58</th>\n",
              "      <td>58</td>\n",
              "      <td>https://www.netmeds.com/images/product-v1/600x...</td>\n",
              "      <td>MICRO Metadoxine, Silymarin &amp; L-Ornithine L-As...</td>\n",
              "    </tr>\n",
              "    <tr>\n",
              "      <th>59</th>\n",
              "      <td>59</td>\n",
              "      <td>https://www.netmeds.com/images/product-v1/600x...</td>\n",
              "      <td>Each film-coated tablet contains : Metadoxine ...</td>\n",
              "    </tr>\n",
              "    <tr>\n",
              "      <th>60</th>\n",
              "      <td>60</td>\n",
              "      <td>https://www.netmeds.com/images/product-v1/600x...</td>\n",
              "      <td>Hicroliv Forte Microliv Forto msera se Microli...</td>\n",
              "    </tr>\n",
              "  </tbody>\n",
              "</table>\n",
              "<p>61 rows × 3 columns</p>\n",
              "</div>\n",
              "      <button class=\"colab-df-convert\" onclick=\"convertToInteractive('df-6a16e642-a3bc-4bae-b5d1-124770cdf46e')\"\n",
              "              title=\"Convert this dataframe to an interactive table.\"\n",
              "              style=\"display:none;\">\n",
              "        \n",
              "  <svg xmlns=\"http://www.w3.org/2000/svg\" height=\"24px\"viewBox=\"0 0 24 24\"\n",
              "       width=\"24px\">\n",
              "    <path d=\"M0 0h24v24H0V0z\" fill=\"none\"/>\n",
              "    <path d=\"M18.56 5.44l.94 2.06.94-2.06 2.06-.94-2.06-.94-.94-2.06-.94 2.06-2.06.94zm-11 1L8.5 8.5l.94-2.06 2.06-.94-2.06-.94L8.5 2.5l-.94 2.06-2.06.94zm10 10l.94 2.06.94-2.06 2.06-.94-2.06-.94-.94-2.06-.94 2.06-2.06.94z\"/><path d=\"M17.41 7.96l-1.37-1.37c-.4-.4-.92-.59-1.43-.59-.52 0-1.04.2-1.43.59L10.3 9.45l-7.72 7.72c-.78.78-.78 2.05 0 2.83L4 21.41c.39.39.9.59 1.41.59.51 0 1.02-.2 1.41-.59l7.78-7.78 2.81-2.81c.8-.78.8-2.07 0-2.86zM5.41 20L4 18.59l7.72-7.72 1.47 1.35L5.41 20z\"/>\n",
              "  </svg>\n",
              "      </button>\n",
              "      \n",
              "  <style>\n",
              "    .colab-df-container {\n",
              "      display:flex;\n",
              "      flex-wrap:wrap;\n",
              "      gap: 12px;\n",
              "    }\n",
              "\n",
              "    .colab-df-convert {\n",
              "      background-color: #E8F0FE;\n",
              "      border: none;\n",
              "      border-radius: 50%;\n",
              "      cursor: pointer;\n",
              "      display: none;\n",
              "      fill: #1967D2;\n",
              "      height: 32px;\n",
              "      padding: 0 0 0 0;\n",
              "      width: 32px;\n",
              "    }\n",
              "\n",
              "    .colab-df-convert:hover {\n",
              "      background-color: #E2EBFA;\n",
              "      box-shadow: 0px 1px 2px rgba(60, 64, 67, 0.3), 0px 1px 3px 1px rgba(60, 64, 67, 0.15);\n",
              "      fill: #174EA6;\n",
              "    }\n",
              "\n",
              "    [theme=dark] .colab-df-convert {\n",
              "      background-color: #3B4455;\n",
              "      fill: #D2E3FC;\n",
              "    }\n",
              "\n",
              "    [theme=dark] .colab-df-convert:hover {\n",
              "      background-color: #434B5C;\n",
              "      box-shadow: 0px 1px 3px 1px rgba(0, 0, 0, 0.15);\n",
              "      filter: drop-shadow(0px 1px 2px rgba(0, 0, 0, 0.3));\n",
              "      fill: #FFFFFF;\n",
              "    }\n",
              "  </style>\n",
              "\n",
              "      <script>\n",
              "        const buttonEl =\n",
              "          document.querySelector('#df-6a16e642-a3bc-4bae-b5d1-124770cdf46e button.colab-df-convert');\n",
              "        buttonEl.style.display =\n",
              "          google.colab.kernel.accessAllowed ? 'block' : 'none';\n",
              "\n",
              "        async function convertToInteractive(key) {\n",
              "          const element = document.querySelector('#df-6a16e642-a3bc-4bae-b5d1-124770cdf46e');\n",
              "          const dataTable =\n",
              "            await google.colab.kernel.invokeFunction('convertToInteractive',\n",
              "                                                     [key], {});\n",
              "          if (!dataTable) return;\n",
              "\n",
              "          const docLinkHtml = 'Like what you see? Visit the ' +\n",
              "            '<a target=\"_blank\" href=https://colab.research.google.com/notebooks/data_table.ipynb>data table notebook</a>'\n",
              "            + ' to learn more about interactive tables.';\n",
              "          element.innerHTML = '';\n",
              "          dataTable['output_type'] = 'display_data';\n",
              "          await google.colab.output.renderOutput(dataTable, element);\n",
              "          const docLink = document.createElement('div');\n",
              "          docLink.innerHTML = docLinkHtml;\n",
              "          element.appendChild(docLink);\n",
              "        }\n",
              "      </script>\n",
              "    </div>\n",
              "  </div>\n",
              "  "
            ]
          },
          "metadata": {},
          "execution_count": 4
        }
      ]
    },
    {
      "cell_type": "markdown",
      "source": [
        "**Combining Images**"
      ],
      "metadata": {
        "id": "ZQcDeX_quUaC"
      }
    },
    {
      "cell_type": "code",
      "source": [
        "def extract_url(link, text):\n",
        "    words = text.split()\n",
        "    for word in words:\n",
        "        if word.lower() in [\"tablet\", \"capsule\"]:\n",
        "            index = words.index(word)\n",
        "            return link[:link.index(words[index]) + len(words[index])]"
      ],
      "metadata": {
        "id": "fD0JH6iwjosB"
      },
      "execution_count": null,
      "outputs": []
    },
    {
      "cell_type": "code",
      "source": [
        "\n",
        "for i, row in df.iterrows():\n",
        "    link = row[\"link\"]\n",
        "    text = row[\"text\"]\n",
        "    \n",
        "    if \"tablet\" in text.lower():\n",
        "        new_link = link[:link.find(\"tablet\") + len(\"tablet\")]\n",
        "    elif \"capsule\" in text.lower():\n",
        "        new_link = link[:link.find(\"capsule\") + len(\"capsule\")]\n",
        "    else:\n",
        "        new_link = link\n",
        "        \n",
        "    df.at[i, \"new_link\"] = new_link"
      ],
      "metadata": {
        "id": "zqcBYzteiG-1"
      },
      "execution_count": null,
      "outputs": []
    },
    {
      "cell_type": "code",
      "source": [
        "grouped = df.groupby(\"new_link\")[\"text\"].apply(lambda x: \" \".join(x)).reset_index()\n",
        "\n",
        "# Merge the grouped data with the original dataframe to retain other columns\n",
        "result = pd.merge(grouped, df, on=\"new_link\", how=\"left\")\n",
        "\n",
        "# Drop duplicate rows and keep the first instance of each row\n",
        "result.drop_duplicates(subset=\"new_link\", keep=\"first\", inplace=True)\n",
        "\n",
        "# Reset the index of the resulting dataframe\n",
        "result.reset_index(drop=True, inplace=True)"
      ],
      "metadata": {
        "id": "1sHpE8jVl_3W"
      },
      "execution_count": null,
      "outputs": []
    },
    {
      "cell_type": "code",
      "source": [
        "result"
      ],
      "metadata": {
        "colab": {
          "base_uri": "https://localhost:8080/",
          "height": 1000
        },
        "id": "xGE8Xj-fmfg2",
        "outputId": "70bd73ed-6b1c-4aa6-ef52-e944a277dd80"
      },
      "execution_count": null,
      "outputs": [
        {
          "output_type": "execute_result",
          "data": {
            "text/plain": [
              "                                             new_link  \\\n",
              "0   https://www.netmeds.com/images/product-v1/600x...   \n",
              "1   https://www.netmeds.com/images/product-v1/600x...   \n",
              "2   https://www.netmeds.com/images/product-v1/600x...   \n",
              "3   https://www.netmeds.com/images/product-v1/600x...   \n",
              "4   https://www.netmeds.com/images/product-v1/600x...   \n",
              "5   https://www.netmeds.com/images/product-v1/600x...   \n",
              "6   https://www.netmeds.com/images/product-v1/600x...   \n",
              "7   https://www.netmeds.com/images/product-v1/600x...   \n",
              "8   https://www.netmeds.com/images/product-v1/600x...   \n",
              "9   https://www.netmeds.com/images/product-v1/600x...   \n",
              "10  https://www.netmeds.com/images/product-v1/600x...   \n",
              "11  https://www.netmeds.com/images/product-v1/600x...   \n",
              "12  https://www.netmeds.com/images/product-v1/600x...   \n",
              "13  https://www.netmeds.com/images/product-v1/600x...   \n",
              "14  https://www.netmeds.com/images/product-v1/600x...   \n",
              "15  https://www.netmeds.com/images/product-v1/600x...   \n",
              "16  https://www.netmeds.com/images/product-v1/600x...   \n",
              "17  https://www.netmeds.com/images/product-v1/600x...   \n",
              "18  https://www.netmeds.com/images/product-v1/600x...   \n",
              "19  https://www.netmeds.com/images/product-v1/600x...   \n",
              "20  https://www.netmeds.com/images/product-v1/600x...   \n",
              "21  https://www.netmeds.com/images/product-v1/600x...   \n",
              "22  https://www.netmeds.com/images/product-v1/600x...   \n",
              "23  https://www.netmeds.com/images/product-v1/600x...   \n",
              "24  https://www.netmeds.com/images/product-v1/600x...   \n",
              "25  https://www.netmeds.com/images/product-v1/600x...   \n",
              "26  https://www.netmeds.com/images/product-v1/600x...   \n",
              "27  https://www.netmeds.com/images/product-v1/600x...   \n",
              "28  https://www.netmeds.com/images/product-v1/600x...   \n",
              "29  https://www.netmeds.com/images/product-v1/600x...   \n",
              "30  https://www.netmeds.com/images/product-v1/600x...   \n",
              "31  https://www.netmeds.com/images/product-v1/600x...   \n",
              "32  https://www.netmeds.com/images/product-v1/600x...   \n",
              "33  https://www.netmeds.com/images/product-v1/600x...   \n",
              "34  https://www.netmeds.com/images/product-v1/600x...   \n",
              "35  https://www.netmeds.com/images/product-v1/600x...   \n",
              "36  https://www.netmeds.com/images/product-v1/600x...   \n",
              "37  https://www.netmeds.com/images/product-v1/600x...   \n",
              "38  https://www.netmeds.com/images/product-v1/600x...   \n",
              "39  https://www.netmeds.com/images/product-v1/600x...   \n",
              "40  https://www.netmeds.com/images/product-v1/600x...   \n",
              "41  https://www.netmeds.com/images/product-v1/600x...   \n",
              "\n",
              "                                               text_x  Unnamed: 0  \\\n",
              "0   hgrMow oBwgentoyeanC NProtect fom directaunloh...          19   \n",
              "1   Metadoxine 500mg&Siymann 140mg ablets LivapeLi...          57   \n",
              "2   PatAcid 509 Detary supoleirene KoumDotn Storng...          31   \n",
              "3   Ponooe.Sown StarchGycoeCrospovy AsmyMAX-400 Ma...           5   \n",
              "4   S-AdenosylL-Methionineg Ginkosam-60 Ginkgo Bil...          18   \n",
              "5   choooyeenonce.cono Ens Keepotalesxholchicri re...          12   \n",
              "6    Ensam400mg Tabit 10S AMTB2001 304925 77400073477          13   \n",
              "7   Eocpsocas: Guouchi1S83y 25m Xakamachi(Fr.Agg H...          43   \n",
              "8   OET DEY'S DEY DE DEY'S DEY'S REY DE EY'S DEY'S rs          44   \n",
              "9   MICRO Metadoxine, Silymarin & L-Ornithine L-As...          58   \n",
              "10  SHNOWOE starta R0o Adenomnac 121% Manotactured...           3   \n",
              "11  AF AF Markotod by ammu-181130.Ind SD00.ar-rahT...          56   \n",
              "12  mCC-Tel00Y664 hard Cuttcmercarpachorekcom WWPC...           9   \n",
              "13  of a Registered Modical Practitloner only Mfg....          46   \n",
              "14  Silymarin,Alpha Lipoic Acid,Selenium and L-Orn...          40   \n",
              "15  EYEROROANICSPVTLTD MEYER 77ENDA chncelcota0oao...          41   \n",
              "16  20 x 30 Tablets Charak R LIVOMYN TABLETS DOSAG...          47   \n",
              "17  Metadoxine Tablets ALCOLIV each uncoataotablet...           4   \n",
              "18  SILYMARIN TABLETS Warning: Bach No To e soldby...          42   \n",
              "19  Metadoxine, Silymarin & LOLA Tablets Livopill ...          50   \n",
              "20  Metadoxine, Silymarin & LOLA Tablets Livopill-...          53   \n",
              "21  0150 KannguchiDanehk Kandhpo 0.169 TmladuIngor...          51   \n",
              "22  AONY Vedicapracttenecohiy ME.ToN Scrn mstitute...          39   \n",
              "23  tmeo HEPATOGARD Health Enhancer 1.1n9 SURRSIST...          21   \n",
              "24  281801ens cs  g  400g Lediopasvir& CowOn T DFD...          23   \n",
              "25  unuase 1000CU fssat Dpaso CR 1000FP 123000 FCC...          10   \n",
              "26  Abbott Lecithin Capsules Essentiale\"-L 1g Natt...          14   \n",
              "27  Ademetionine Tablets 400mg Abbott Heptral' 400...          28   \n",
              "28  prescription of a Registered Medical Practitio...          54   \n",
              "29  S-Adenosyl-L-methionine Tablets 200mg Ensame-2...          11   \n",
              "30  Coiour iron oxide ot Red Dosage As directed by...          45   \n",
              "31  Each coated tablet contains: Extracts:Anarooro...          49   \n",
              "32  Seand Aenees Livrite Livrite Pagvrse Echm cctd...          55   \n",
              "33  S-Adenosyl Methionine Tablets 400 mg . ? Hepka...          24   \n",
              "34  Heskar ienk Hepkart Hepkal arty Her Hepkart He...          27   \n",
              "35   Coonts10N 263 aNeed mystar 200 20. Mankindii ...          20   \n",
              "36  Exopierts Colour:RedOxce CN DosgeAs recte Phys...          22   \n",
              "37  Lecithin & Silymarin Soft Gel Capsules Lecivit...          36   \n",
              "38  Ademetionine Tablets 400 mg Adefresh-400 T-400...           0   \n",
              "39  IN0CA5 M1g.Lic.No.27/UA2018 Each film coated t...          34   \n",
              "40  TABLES IN0CA10 L.No27/UN20 Obeticholic Acid. 1...          33   \n",
              "41  . ch-OSA Advanced Collagen Generator R BioSil ...           7   \n",
              "\n",
              "                                                 link  \\\n",
              "0   https://www.netmeds.com/images/product-v1/600x...   \n",
              "1   https://www.netmeds.com/images/product-v1/600x...   \n",
              "2   https://www.netmeds.com/images/product-v1/600x...   \n",
              "3   https://www.netmeds.com/images/product-v1/600x...   \n",
              "4   https://www.netmeds.com/images/product-v1/600x...   \n",
              "5   https://www.netmeds.com/images/product-v1/600x...   \n",
              "6   https://www.netmeds.com/images/product-v1/600x...   \n",
              "7   https://www.netmeds.com/images/product-v1/600x...   \n",
              "8   https://www.netmeds.com/images/product-v1/600x...   \n",
              "9   https://www.netmeds.com/images/product-v1/600x...   \n",
              "10  https://www.netmeds.com/images/product-v1/600x...   \n",
              "11  https://www.netmeds.com/images/product-v1/600x...   \n",
              "12  https://www.netmeds.com/images/product-v1/600x...   \n",
              "13  https://www.netmeds.com/images/product-v1/600x...   \n",
              "14  https://www.netmeds.com/images/product-v1/600x...   \n",
              "15  https://www.netmeds.com/images/product-v1/600x...   \n",
              "16  https://www.netmeds.com/images/product-v1/600x...   \n",
              "17  https://www.netmeds.com/images/product-v1/600x...   \n",
              "18  https://www.netmeds.com/images/product-v1/600x...   \n",
              "19  https://www.netmeds.com/images/product-v1/600x...   \n",
              "20  https://www.netmeds.com/images/product-v1/600x...   \n",
              "21  https://www.netmeds.com/images/product-v1/600x...   \n",
              "22  https://www.netmeds.com/images/product-v1/600x...   \n",
              "23  https://www.netmeds.com/images/product-v1/600x...   \n",
              "24  https://www.netmeds.com/images/product-v1/600x...   \n",
              "25  https://www.netmeds.com/images/product-v1/600x...   \n",
              "26  https://www.netmeds.com/images/product-v1/600x...   \n",
              "27  https://www.netmeds.com/images/product-v1/600x...   \n",
              "28  https://www.netmeds.com/images/product-v1/600x...   \n",
              "29  https://www.netmeds.com/images/product-v1/600x...   \n",
              "30  https://www.netmeds.com/images/product-v1/600x...   \n",
              "31  https://www.netmeds.com/images/product-v1/600x...   \n",
              "32  https://www.netmeds.com/images/product-v1/600x...   \n",
              "33  https://www.netmeds.com/images/product-v1/600x...   \n",
              "34  https://www.netmeds.com/images/product-v1/600x...   \n",
              "35  https://www.netmeds.com/images/product-v1/600x...   \n",
              "36  https://www.netmeds.com/images/product-v1/600x...   \n",
              "37  https://www.netmeds.com/images/product-v1/600x...   \n",
              "38  https://www.netmeds.com/images/product-v1/600x...   \n",
              "39  https://www.netmeds.com/images/product-v1/600x...   \n",
              "40  https://www.netmeds.com/images/product-v1/600x...   \n",
              "41  https://www.netmeds.com/images/product-v1/600x...   \n",
              "\n",
              "                                               text_y  \n",
              "0   hgrMow oBwgentoyeanC NProtect fom directaunloh...  \n",
              "1   Metadoxine 500mg&Siymann 140mg ablets LivapeLi...  \n",
              "2   PatAcid 509 Detary supoleirene KoumDotn Storng...  \n",
              "3   Ponooe.Sown StarchGycoeCrospovy AsmyMAX-400 Ma...  \n",
              "4   S-AdenosylL-Methionineg Ginkosam-60 Ginkgo Bil...  \n",
              "5   choooyeenonce.cono Ens Keepotalesxholchicri re...  \n",
              "6    Ensam400mg Tabit 10S AMTB2001 304925 77400073477  \n",
              "7   Eocpsocas: Guouchi1S83y 25m Xakamachi(Fr.Agg H...  \n",
              "8   OET DEY'S DEY DE DEY'S DEY'S REY DE EY'S DEY'S rs  \n",
              "9   MICRO Metadoxine, Silymarin & L-Ornithine L-As...  \n",
              "10  SHNOWOE starta R0o Adenomnac 121% Manotactured...  \n",
              "11  AF AF Markotod by ammu-181130.Ind SD00.ar-rahT...  \n",
              "12  mCC-Tel00Y664 hard Cuttcmercarpachorekcom WWPC...  \n",
              "13  of a Registered Modical Practitloner only Mfg....  \n",
              "14  Silymarin,Alpha Lipoic Acid,Selenium and L-Orn...  \n",
              "15  EYEROROANICSPVTLTD MEYER 77ENDA chncelcota0oao...  \n",
              "16           20 x 30 Tablets Charak R LIVOMYN TABLETS  \n",
              "17  Metadoxine Tablets ALCOLIV each uncoataotablet...  \n",
              "18  SILYMARIN TABLETS Warning: Bach No To e soldby...  \n",
              "19  Metadoxine, Silymarin & LOLA Tablets Livopill ...  \n",
              "20  Metadoxine, Silymarin & LOLA Tablets Livopill-...  \n",
              "21  0150 KannguchiDanehk Kandhpo 0.169 TmladuIngor...  \n",
              "22  AONY Vedicapracttenecohiy ME.ToN Scrn mstitute...  \n",
              "23  tmeo HEPATOGARD Health Enhancer 1.1n9 SURRSIST...  \n",
              "24  281801ens cs  g  400g Lediopasvir& CowOn T DFD...  \n",
              "25  unuase 1000CU fssat Dpaso CR 1000FP 123000 FCC...  \n",
              "26  Abbott Lecithin Capsules Essentiale\"-L 1g Natt...  \n",
              "27  Ademetionine Tablets 400mg Abbott Heptral' 400...  \n",
              "28  prescription of a Registered Medical Practitio...  \n",
              "29  S-Adenosyl-L-methionine Tablets 200mg Ensame-2...  \n",
              "30  Coiour iron oxide ot Red Dosage As directed by...  \n",
              "31  Each coated tablet contains: Extracts:Anarooro...  \n",
              "32  Seand Aenees Livrite Livrite Pagvrse Echm cctd...  \n",
              "33  S-Adenosyl Methionine Tablets 400 mg . ? Hepka...  \n",
              "34  Heskar ienk Hepkart Hepkal arty Her Hepkart He...  \n",
              "35   Coonts10N 263 aNeed mystar 200 20. Mankindii ...  \n",
              "36  Exopierts Colour:RedOxce CN DosgeAs recte Phys...  \n",
              "37  Lecithin & Silymarin Soft Gel Capsules Lecivit...  \n",
              "38  Ademetionine Tablets 400 mg Adefresh-400 T-400...  \n",
              "39  IN0CA5 M1g.Lic.No.27/UA2018 Each film coated t...  \n",
              "40  TABLES IN0CA10 L.No27/UN20 Obeticholic Acid. 1...  \n",
              "41  . ch-OSA Advanced Collagen Generator R BioSil ...  "
            ],
            "text/html": [
              "\n",
              "  <div id=\"df-3c449232-51ca-418d-8966-569557611beb\">\n",
              "    <div class=\"colab-df-container\">\n",
              "      <div>\n",
              "<style scoped>\n",
              "    .dataframe tbody tr th:only-of-type {\n",
              "        vertical-align: middle;\n",
              "    }\n",
              "\n",
              "    .dataframe tbody tr th {\n",
              "        vertical-align: top;\n",
              "    }\n",
              "\n",
              "    .dataframe thead th {\n",
              "        text-align: right;\n",
              "    }\n",
              "</style>\n",
              "<table border=\"1\" class=\"dataframe\">\n",
              "  <thead>\n",
              "    <tr style=\"text-align: right;\">\n",
              "      <th></th>\n",
              "      <th>new_link</th>\n",
              "      <th>text_x</th>\n",
              "      <th>Unnamed: 0</th>\n",
              "      <th>link</th>\n",
              "      <th>text_y</th>\n",
              "    </tr>\n",
              "  </thead>\n",
              "  <tbody>\n",
              "    <tr>\n",
              "      <th>0</th>\n",
              "      <td>https://www.netmeds.com/images/product-v1/600x...</td>\n",
              "      <td>hgrMow oBwgentoyeanC NProtect fom directaunloh...</td>\n",
              "      <td>19</td>\n",
              "      <td>https://www.netmeds.com/images/product-v1/600x...</td>\n",
              "      <td>hgrMow oBwgentoyeanC NProtect fom directaunloh...</td>\n",
              "    </tr>\n",
              "    <tr>\n",
              "      <th>1</th>\n",
              "      <td>https://www.netmeds.com/images/product-v1/600x...</td>\n",
              "      <td>Metadoxine 500mg&amp;Siymann 140mg ablets LivapeLi...</td>\n",
              "      <td>57</td>\n",
              "      <td>https://www.netmeds.com/images/product-v1/600x...</td>\n",
              "      <td>Metadoxine 500mg&amp;Siymann 140mg ablets LivapeLi...</td>\n",
              "    </tr>\n",
              "    <tr>\n",
              "      <th>2</th>\n",
              "      <td>https://www.netmeds.com/images/product-v1/600x...</td>\n",
              "      <td>PatAcid 509 Detary supoleirene KoumDotn Storng...</td>\n",
              "      <td>31</td>\n",
              "      <td>https://www.netmeds.com/images/product-v1/600x...</td>\n",
              "      <td>PatAcid 509 Detary supoleirene KoumDotn Storng...</td>\n",
              "    </tr>\n",
              "    <tr>\n",
              "      <th>3</th>\n",
              "      <td>https://www.netmeds.com/images/product-v1/600x...</td>\n",
              "      <td>Ponooe.Sown StarchGycoeCrospovy AsmyMAX-400 Ma...</td>\n",
              "      <td>5</td>\n",
              "      <td>https://www.netmeds.com/images/product-v1/600x...</td>\n",
              "      <td>Ponooe.Sown StarchGycoeCrospovy AsmyMAX-400 Ma...</td>\n",
              "    </tr>\n",
              "    <tr>\n",
              "      <th>4</th>\n",
              "      <td>https://www.netmeds.com/images/product-v1/600x...</td>\n",
              "      <td>S-AdenosylL-Methionineg Ginkosam-60 Ginkgo Bil...</td>\n",
              "      <td>18</td>\n",
              "      <td>https://www.netmeds.com/images/product-v1/600x...</td>\n",
              "      <td>S-AdenosylL-Methionineg Ginkosam-60 Ginkgo Bil...</td>\n",
              "    </tr>\n",
              "    <tr>\n",
              "      <th>5</th>\n",
              "      <td>https://www.netmeds.com/images/product-v1/600x...</td>\n",
              "      <td>choooyeenonce.cono Ens Keepotalesxholchicri re...</td>\n",
              "      <td>12</td>\n",
              "      <td>https://www.netmeds.com/images/product-v1/600x...</td>\n",
              "      <td>choooyeenonce.cono Ens Keepotalesxholchicri re...</td>\n",
              "    </tr>\n",
              "    <tr>\n",
              "      <th>6</th>\n",
              "      <td>https://www.netmeds.com/images/product-v1/600x...</td>\n",
              "      <td>Ensam400mg Tabit 10S AMTB2001 304925 77400073477</td>\n",
              "      <td>13</td>\n",
              "      <td>https://www.netmeds.com/images/product-v1/600x...</td>\n",
              "      <td>Ensam400mg Tabit 10S AMTB2001 304925 77400073477</td>\n",
              "    </tr>\n",
              "    <tr>\n",
              "      <th>7</th>\n",
              "      <td>https://www.netmeds.com/images/product-v1/600x...</td>\n",
              "      <td>Eocpsocas: Guouchi1S83y 25m Xakamachi(Fr.Agg H...</td>\n",
              "      <td>43</td>\n",
              "      <td>https://www.netmeds.com/images/product-v1/600x...</td>\n",
              "      <td>Eocpsocas: Guouchi1S83y 25m Xakamachi(Fr.Agg H...</td>\n",
              "    </tr>\n",
              "    <tr>\n",
              "      <th>8</th>\n",
              "      <td>https://www.netmeds.com/images/product-v1/600x...</td>\n",
              "      <td>OET DEY'S DEY DE DEY'S DEY'S REY DE EY'S DEY'S rs</td>\n",
              "      <td>44</td>\n",
              "      <td>https://www.netmeds.com/images/product-v1/600x...</td>\n",
              "      <td>OET DEY'S DEY DE DEY'S DEY'S REY DE EY'S DEY'S rs</td>\n",
              "    </tr>\n",
              "    <tr>\n",
              "      <th>9</th>\n",
              "      <td>https://www.netmeds.com/images/product-v1/600x...</td>\n",
              "      <td>MICRO Metadoxine, Silymarin &amp; L-Ornithine L-As...</td>\n",
              "      <td>58</td>\n",
              "      <td>https://www.netmeds.com/images/product-v1/600x...</td>\n",
              "      <td>MICRO Metadoxine, Silymarin &amp; L-Ornithine L-As...</td>\n",
              "    </tr>\n",
              "    <tr>\n",
              "      <th>10</th>\n",
              "      <td>https://www.netmeds.com/images/product-v1/600x...</td>\n",
              "      <td>SHNOWOE starta R0o Adenomnac 121% Manotactured...</td>\n",
              "      <td>3</td>\n",
              "      <td>https://www.netmeds.com/images/product-v1/600x...</td>\n",
              "      <td>SHNOWOE starta R0o Adenomnac 121% Manotactured...</td>\n",
              "    </tr>\n",
              "    <tr>\n",
              "      <th>11</th>\n",
              "      <td>https://www.netmeds.com/images/product-v1/600x...</td>\n",
              "      <td>AF AF Markotod by ammu-181130.Ind SD00.ar-rahT...</td>\n",
              "      <td>56</td>\n",
              "      <td>https://www.netmeds.com/images/product-v1/600x...</td>\n",
              "      <td>AF AF Markotod by ammu-181130.Ind SD00.ar-rahT...</td>\n",
              "    </tr>\n",
              "    <tr>\n",
              "      <th>12</th>\n",
              "      <td>https://www.netmeds.com/images/product-v1/600x...</td>\n",
              "      <td>mCC-Tel00Y664 hard Cuttcmercarpachorekcom WWPC...</td>\n",
              "      <td>9</td>\n",
              "      <td>https://www.netmeds.com/images/product-v1/600x...</td>\n",
              "      <td>mCC-Tel00Y664 hard Cuttcmercarpachorekcom WWPC...</td>\n",
              "    </tr>\n",
              "    <tr>\n",
              "      <th>13</th>\n",
              "      <td>https://www.netmeds.com/images/product-v1/600x...</td>\n",
              "      <td>of a Registered Modical Practitloner only Mfg....</td>\n",
              "      <td>46</td>\n",
              "      <td>https://www.netmeds.com/images/product-v1/600x...</td>\n",
              "      <td>of a Registered Modical Practitloner only Mfg....</td>\n",
              "    </tr>\n",
              "    <tr>\n",
              "      <th>14</th>\n",
              "      <td>https://www.netmeds.com/images/product-v1/600x...</td>\n",
              "      <td>Silymarin,Alpha Lipoic Acid,Selenium and L-Orn...</td>\n",
              "      <td>40</td>\n",
              "      <td>https://www.netmeds.com/images/product-v1/600x...</td>\n",
              "      <td>Silymarin,Alpha Lipoic Acid,Selenium and L-Orn...</td>\n",
              "    </tr>\n",
              "    <tr>\n",
              "      <th>15</th>\n",
              "      <td>https://www.netmeds.com/images/product-v1/600x...</td>\n",
              "      <td>EYEROROANICSPVTLTD MEYER 77ENDA chncelcota0oao...</td>\n",
              "      <td>41</td>\n",
              "      <td>https://www.netmeds.com/images/product-v1/600x...</td>\n",
              "      <td>EYEROROANICSPVTLTD MEYER 77ENDA chncelcota0oao...</td>\n",
              "    </tr>\n",
              "    <tr>\n",
              "      <th>16</th>\n",
              "      <td>https://www.netmeds.com/images/product-v1/600x...</td>\n",
              "      <td>20 x 30 Tablets Charak R LIVOMYN TABLETS DOSAG...</td>\n",
              "      <td>47</td>\n",
              "      <td>https://www.netmeds.com/images/product-v1/600x...</td>\n",
              "      <td>20 x 30 Tablets Charak R LIVOMYN TABLETS</td>\n",
              "    </tr>\n",
              "    <tr>\n",
              "      <th>17</th>\n",
              "      <td>https://www.netmeds.com/images/product-v1/600x...</td>\n",
              "      <td>Metadoxine Tablets ALCOLIV each uncoataotablet...</td>\n",
              "      <td>4</td>\n",
              "      <td>https://www.netmeds.com/images/product-v1/600x...</td>\n",
              "      <td>Metadoxine Tablets ALCOLIV each uncoataotablet...</td>\n",
              "    </tr>\n",
              "    <tr>\n",
              "      <th>18</th>\n",
              "      <td>https://www.netmeds.com/images/product-v1/600x...</td>\n",
              "      <td>SILYMARIN TABLETS Warning: Bach No To e soldby...</td>\n",
              "      <td>42</td>\n",
              "      <td>https://www.netmeds.com/images/product-v1/600x...</td>\n",
              "      <td>SILYMARIN TABLETS Warning: Bach No To e soldby...</td>\n",
              "    </tr>\n",
              "    <tr>\n",
              "      <th>19</th>\n",
              "      <td>https://www.netmeds.com/images/product-v1/600x...</td>\n",
              "      <td>Metadoxine, Silymarin &amp; LOLA Tablets Livopill ...</td>\n",
              "      <td>50</td>\n",
              "      <td>https://www.netmeds.com/images/product-v1/600x...</td>\n",
              "      <td>Metadoxine, Silymarin &amp; LOLA Tablets Livopill ...</td>\n",
              "    </tr>\n",
              "    <tr>\n",
              "      <th>20</th>\n",
              "      <td>https://www.netmeds.com/images/product-v1/600x...</td>\n",
              "      <td>Metadoxine, Silymarin &amp; LOLA Tablets Livopill-...</td>\n",
              "      <td>53</td>\n",
              "      <td>https://www.netmeds.com/images/product-v1/600x...</td>\n",
              "      <td>Metadoxine, Silymarin &amp; LOLA Tablets Livopill-...</td>\n",
              "    </tr>\n",
              "    <tr>\n",
              "      <th>21</th>\n",
              "      <td>https://www.netmeds.com/images/product-v1/600x...</td>\n",
              "      <td>0150 KannguchiDanehk Kandhpo 0.169 TmladuIngor...</td>\n",
              "      <td>51</td>\n",
              "      <td>https://www.netmeds.com/images/product-v1/600x...</td>\n",
              "      <td>0150 KannguchiDanehk Kandhpo 0.169 TmladuIngor...</td>\n",
              "    </tr>\n",
              "    <tr>\n",
              "      <th>22</th>\n",
              "      <td>https://www.netmeds.com/images/product-v1/600x...</td>\n",
              "      <td>AONY Vedicapracttenecohiy ME.ToN Scrn mstitute...</td>\n",
              "      <td>39</td>\n",
              "      <td>https://www.netmeds.com/images/product-v1/600x...</td>\n",
              "      <td>AONY Vedicapracttenecohiy ME.ToN Scrn mstitute...</td>\n",
              "    </tr>\n",
              "    <tr>\n",
              "      <th>23</th>\n",
              "      <td>https://www.netmeds.com/images/product-v1/600x...</td>\n",
              "      <td>tmeo HEPATOGARD Health Enhancer 1.1n9 SURRSIST...</td>\n",
              "      <td>21</td>\n",
              "      <td>https://www.netmeds.com/images/product-v1/600x...</td>\n",
              "      <td>tmeo HEPATOGARD Health Enhancer 1.1n9 SURRSIST...</td>\n",
              "    </tr>\n",
              "    <tr>\n",
              "      <th>24</th>\n",
              "      <td>https://www.netmeds.com/images/product-v1/600x...</td>\n",
              "      <td>281801ens cs  g  400g Lediopasvir&amp; CowOn T DFD...</td>\n",
              "      <td>23</td>\n",
              "      <td>https://www.netmeds.com/images/product-v1/600x...</td>\n",
              "      <td>281801ens cs  g  400g Lediopasvir&amp; CowOn T DFD...</td>\n",
              "    </tr>\n",
              "    <tr>\n",
              "      <th>25</th>\n",
              "      <td>https://www.netmeds.com/images/product-v1/600x...</td>\n",
              "      <td>unuase 1000CU fssat Dpaso CR 1000FP 123000 FCC...</td>\n",
              "      <td>10</td>\n",
              "      <td>https://www.netmeds.com/images/product-v1/600x...</td>\n",
              "      <td>unuase 1000CU fssat Dpaso CR 1000FP 123000 FCC...</td>\n",
              "    </tr>\n",
              "    <tr>\n",
              "      <th>26</th>\n",
              "      <td>https://www.netmeds.com/images/product-v1/600x...</td>\n",
              "      <td>Abbott Lecithin Capsules Essentiale\"-L 1g Natt...</td>\n",
              "      <td>14</td>\n",
              "      <td>https://www.netmeds.com/images/product-v1/600x...</td>\n",
              "      <td>Abbott Lecithin Capsules Essentiale\"-L 1g Natt...</td>\n",
              "    </tr>\n",
              "    <tr>\n",
              "      <th>27</th>\n",
              "      <td>https://www.netmeds.com/images/product-v1/600x...</td>\n",
              "      <td>Ademetionine Tablets 400mg Abbott Heptral' 400...</td>\n",
              "      <td>28</td>\n",
              "      <td>https://www.netmeds.com/images/product-v1/600x...</td>\n",
              "      <td>Ademetionine Tablets 400mg Abbott Heptral' 400...</td>\n",
              "    </tr>\n",
              "    <tr>\n",
              "      <th>28</th>\n",
              "      <td>https://www.netmeds.com/images/product-v1/600x...</td>\n",
              "      <td>prescription of a Registered Medical Practitio...</td>\n",
              "      <td>54</td>\n",
              "      <td>https://www.netmeds.com/images/product-v1/600x...</td>\n",
              "      <td>prescription of a Registered Medical Practitio...</td>\n",
              "    </tr>\n",
              "    <tr>\n",
              "      <th>29</th>\n",
              "      <td>https://www.netmeds.com/images/product-v1/600x...</td>\n",
              "      <td>S-Adenosyl-L-methionine Tablets 200mg Ensame-2...</td>\n",
              "      <td>11</td>\n",
              "      <td>https://www.netmeds.com/images/product-v1/600x...</td>\n",
              "      <td>S-Adenosyl-L-methionine Tablets 200mg Ensame-2...</td>\n",
              "    </tr>\n",
              "    <tr>\n",
              "      <th>30</th>\n",
              "      <td>https://www.netmeds.com/images/product-v1/600x...</td>\n",
              "      <td>Coiour iron oxide ot Red Dosage As directed by...</td>\n",
              "      <td>45</td>\n",
              "      <td>https://www.netmeds.com/images/product-v1/600x...</td>\n",
              "      <td>Coiour iron oxide ot Red Dosage As directed by...</td>\n",
              "    </tr>\n",
              "    <tr>\n",
              "      <th>31</th>\n",
              "      <td>https://www.netmeds.com/images/product-v1/600x...</td>\n",
              "      <td>Each coated tablet contains: Extracts:Anarooro...</td>\n",
              "      <td>49</td>\n",
              "      <td>https://www.netmeds.com/images/product-v1/600x...</td>\n",
              "      <td>Each coated tablet contains: Extracts:Anarooro...</td>\n",
              "    </tr>\n",
              "    <tr>\n",
              "      <th>32</th>\n",
              "      <td>https://www.netmeds.com/images/product-v1/600x...</td>\n",
              "      <td>Seand Aenees Livrite Livrite Pagvrse Echm cctd...</td>\n",
              "      <td>55</td>\n",
              "      <td>https://www.netmeds.com/images/product-v1/600x...</td>\n",
              "      <td>Seand Aenees Livrite Livrite Pagvrse Echm cctd...</td>\n",
              "    </tr>\n",
              "    <tr>\n",
              "      <th>33</th>\n",
              "      <td>https://www.netmeds.com/images/product-v1/600x...</td>\n",
              "      <td>S-Adenosyl Methionine Tablets 400 mg . ? Hepka...</td>\n",
              "      <td>24</td>\n",
              "      <td>https://www.netmeds.com/images/product-v1/600x...</td>\n",
              "      <td>S-Adenosyl Methionine Tablets 400 mg . ? Hepka...</td>\n",
              "    </tr>\n",
              "    <tr>\n",
              "      <th>34</th>\n",
              "      <td>https://www.netmeds.com/images/product-v1/600x...</td>\n",
              "      <td>Heskar ienk Hepkart Hepkal arty Her Hepkart He...</td>\n",
              "      <td>27</td>\n",
              "      <td>https://www.netmeds.com/images/product-v1/600x...</td>\n",
              "      <td>Heskar ienk Hepkart Hepkal arty Her Hepkart He...</td>\n",
              "    </tr>\n",
              "    <tr>\n",
              "      <th>35</th>\n",
              "      <td>https://www.netmeds.com/images/product-v1/600x...</td>\n",
              "      <td>Coonts10N 263 aNeed mystar 200 20. Mankindii ...</td>\n",
              "      <td>20</td>\n",
              "      <td>https://www.netmeds.com/images/product-v1/600x...</td>\n",
              "      <td>Coonts10N 263 aNeed mystar 200 20. Mankindii ...</td>\n",
              "    </tr>\n",
              "    <tr>\n",
              "      <th>36</th>\n",
              "      <td>https://www.netmeds.com/images/product-v1/600x...</td>\n",
              "      <td>Exopierts Colour:RedOxce CN DosgeAs recte Phys...</td>\n",
              "      <td>22</td>\n",
              "      <td>https://www.netmeds.com/images/product-v1/600x...</td>\n",
              "      <td>Exopierts Colour:RedOxce CN DosgeAs recte Phys...</td>\n",
              "    </tr>\n",
              "    <tr>\n",
              "      <th>37</th>\n",
              "      <td>https://www.netmeds.com/images/product-v1/600x...</td>\n",
              "      <td>Lecithin &amp; Silymarin Soft Gel Capsules Lecivit...</td>\n",
              "      <td>36</td>\n",
              "      <td>https://www.netmeds.com/images/product-v1/600x...</td>\n",
              "      <td>Lecithin &amp; Silymarin Soft Gel Capsules Lecivit...</td>\n",
              "    </tr>\n",
              "    <tr>\n",
              "      <th>38</th>\n",
              "      <td>https://www.netmeds.com/images/product-v1/600x...</td>\n",
              "      <td>Ademetionine Tablets 400 mg Adefresh-400 T-400...</td>\n",
              "      <td>0</td>\n",
              "      <td>https://www.netmeds.com/images/product-v1/600x...</td>\n",
              "      <td>Ademetionine Tablets 400 mg Adefresh-400 T-400...</td>\n",
              "    </tr>\n",
              "    <tr>\n",
              "      <th>39</th>\n",
              "      <td>https://www.netmeds.com/images/product-v1/600x...</td>\n",
              "      <td>IN0CA5 M1g.Lic.No.27/UA2018 Each film coated t...</td>\n",
              "      <td>34</td>\n",
              "      <td>https://www.netmeds.com/images/product-v1/600x...</td>\n",
              "      <td>IN0CA5 M1g.Lic.No.27/UA2018 Each film coated t...</td>\n",
              "    </tr>\n",
              "    <tr>\n",
              "      <th>40</th>\n",
              "      <td>https://www.netmeds.com/images/product-v1/600x...</td>\n",
              "      <td>TABLES IN0CA10 L.No27/UN20 Obeticholic Acid. 1...</td>\n",
              "      <td>33</td>\n",
              "      <td>https://www.netmeds.com/images/product-v1/600x...</td>\n",
              "      <td>TABLES IN0CA10 L.No27/UN20 Obeticholic Acid. 1...</td>\n",
              "    </tr>\n",
              "    <tr>\n",
              "      <th>41</th>\n",
              "      <td>https://www.netmeds.com/images/product-v1/600x...</td>\n",
              "      <td>. ch-OSA Advanced Collagen Generator R BioSil ...</td>\n",
              "      <td>7</td>\n",
              "      <td>https://www.netmeds.com/images/product-v1/600x...</td>\n",
              "      <td>. ch-OSA Advanced Collagen Generator R BioSil ...</td>\n",
              "    </tr>\n",
              "  </tbody>\n",
              "</table>\n",
              "</div>\n",
              "      <button class=\"colab-df-convert\" onclick=\"convertToInteractive('df-3c449232-51ca-418d-8966-569557611beb')\"\n",
              "              title=\"Convert this dataframe to an interactive table.\"\n",
              "              style=\"display:none;\">\n",
              "        \n",
              "  <svg xmlns=\"http://www.w3.org/2000/svg\" height=\"24px\"viewBox=\"0 0 24 24\"\n",
              "       width=\"24px\">\n",
              "    <path d=\"M0 0h24v24H0V0z\" fill=\"none\"/>\n",
              "    <path d=\"M18.56 5.44l.94 2.06.94-2.06 2.06-.94-2.06-.94-.94-2.06-.94 2.06-2.06.94zm-11 1L8.5 8.5l.94-2.06 2.06-.94-2.06-.94L8.5 2.5l-.94 2.06-2.06.94zm10 10l.94 2.06.94-2.06 2.06-.94-2.06-.94-.94-2.06-.94 2.06-2.06.94z\"/><path d=\"M17.41 7.96l-1.37-1.37c-.4-.4-.92-.59-1.43-.59-.52 0-1.04.2-1.43.59L10.3 9.45l-7.72 7.72c-.78.78-.78 2.05 0 2.83L4 21.41c.39.39.9.59 1.41.59.51 0 1.02-.2 1.41-.59l7.78-7.78 2.81-2.81c.8-.78.8-2.07 0-2.86zM5.41 20L4 18.59l7.72-7.72 1.47 1.35L5.41 20z\"/>\n",
              "  </svg>\n",
              "      </button>\n",
              "      \n",
              "  <style>\n",
              "    .colab-df-container {\n",
              "      display:flex;\n",
              "      flex-wrap:wrap;\n",
              "      gap: 12px;\n",
              "    }\n",
              "\n",
              "    .colab-df-convert {\n",
              "      background-color: #E8F0FE;\n",
              "      border: none;\n",
              "      border-radius: 50%;\n",
              "      cursor: pointer;\n",
              "      display: none;\n",
              "      fill: #1967D2;\n",
              "      height: 32px;\n",
              "      padding: 0 0 0 0;\n",
              "      width: 32px;\n",
              "    }\n",
              "\n",
              "    .colab-df-convert:hover {\n",
              "      background-color: #E2EBFA;\n",
              "      box-shadow: 0px 1px 2px rgba(60, 64, 67, 0.3), 0px 1px 3px 1px rgba(60, 64, 67, 0.15);\n",
              "      fill: #174EA6;\n",
              "    }\n",
              "\n",
              "    [theme=dark] .colab-df-convert {\n",
              "      background-color: #3B4455;\n",
              "      fill: #D2E3FC;\n",
              "    }\n",
              "\n",
              "    [theme=dark] .colab-df-convert:hover {\n",
              "      background-color: #434B5C;\n",
              "      box-shadow: 0px 1px 3px 1px rgba(0, 0, 0, 0.15);\n",
              "      filter: drop-shadow(0px 1px 2px rgba(0, 0, 0, 0.3));\n",
              "      fill: #FFFFFF;\n",
              "    }\n",
              "  </style>\n",
              "\n",
              "      <script>\n",
              "        const buttonEl =\n",
              "          document.querySelector('#df-3c449232-51ca-418d-8966-569557611beb button.colab-df-convert');\n",
              "        buttonEl.style.display =\n",
              "          google.colab.kernel.accessAllowed ? 'block' : 'none';\n",
              "\n",
              "        async function convertToInteractive(key) {\n",
              "          const element = document.querySelector('#df-3c449232-51ca-418d-8966-569557611beb');\n",
              "          const dataTable =\n",
              "            await google.colab.kernel.invokeFunction('convertToInteractive',\n",
              "                                                     [key], {});\n",
              "          if (!dataTable) return;\n",
              "\n",
              "          const docLinkHtml = 'Like what you see? Visit the ' +\n",
              "            '<a target=\"_blank\" href=https://colab.research.google.com/notebooks/data_table.ipynb>data table notebook</a>'\n",
              "            + ' to learn more about interactive tables.';\n",
              "          element.innerHTML = '';\n",
              "          dataTable['output_type'] = 'display_data';\n",
              "          await google.colab.output.renderOutput(dataTable, element);\n",
              "          const docLink = document.createElement('div');\n",
              "          docLink.innerHTML = docLinkHtml;\n",
              "          element.appendChild(docLink);\n",
              "        }\n",
              "      </script>\n",
              "    </div>\n",
              "  </div>\n",
              "  "
            ]
          },
          "metadata": {},
          "execution_count": 43
        }
      ]
    },
    {
      "cell_type": "code",
      "source": [
        "result.drop(['Unnamed: 0','text_y'],axis=1,inplace=True)"
      ],
      "metadata": {
        "id": "sm4A92VxlfU2"
      },
      "execution_count": null,
      "outputs": []
    },
    {
      "cell_type": "code",
      "source": [
        "result.to_csv('Liver_comined.csv')"
      ],
      "metadata": {
        "id": "PwhVzeZymke2"
      },
      "execution_count": null,
      "outputs": []
    },
    {
      "cell_type": "markdown",
      "source": [],
      "metadata": {
        "id": "34bdjwCeQYgF"
      }
    },
    {
      "cell_type": "code",
      "execution_count": null,
      "metadata": {
        "colab": {
          "base_uri": "https://localhost:8080/"
        },
        "outputId": "66792704-58e5-4730-d8be-76c46c1027fe",
        "id": "biyWWtLPvdD4"
      },
      "outputs": [
        {
          "output_type": "stream",
          "name": "stdout",
          "text": [
            "{'content': 'OCANASH 5 contains Obeticholic acid which belongs to the group of medicines called Farnesoid X receptor agonists. It is used to treat primary biliary cholangitis (also known as primary biliary cirrhosis) in adults, either by itself or together with other medicine (called ursodeoxycholic acid).', 'seen_by': [{'annotator': '19pd15@psgtech.ac.in', 'annotator_id': 1}], 'comments': [], 'metadata': {'': 36, 'link': 'https://www.netmeds.com/prescriptions/ocanash-5-tablet-10s', 'tablet_name': \"OCANASH 5 Tablet 10's\"}, 'example_id': '74364000-ba13-4ba2-8b39-61a74f6ff0e6', 'annotations': [{'end': 35, 'tag': 'COMPONENT', 'start': 19, 'value': 'Obeticholic acid', 'tag_id': 'e0e81e6c-6d6d-4aef-885c-720919879183', 'correct': None, 'reviewed': False, 'example_id': '74364000-ba13-4ba2-8b39-61a74f6ff0e6', 'annotated_by': [{'annotator': '19pd15@psgtech.ac.in', 'timestamp': '2023-02-12T12:56:08.167+00:00', 'annotator_id': 1}], 'definition_id': '3962a1c7-c642-49b8-b684-e10b45b5586b', 'tagged_token_id': '9d0098a2-18d7-4710-811a-a39a5c7a45b2'}, {'end': 9, 'tag': 'NAME', 'start': 0, 'value': 'OCANASH 5', 'tag_id': '7a6c30e9-7ca1-4075-9aa5-09277b2c6a20', 'correct': None, 'reviewed': False, 'example_id': '74364000-ba13-4ba2-8b39-61a74f6ff0e6', 'annotated_by': [{'annotator': '19pd15@psgtech.ac.in', 'timestamp': '2023-02-12T12:56:04.455+00:00', 'annotator_id': 1}], 'definition_id': '3962a1c7-c642-49b8-b684-e10b45b5586b', 'tagged_token_id': 'b8e65685-acbf-42bc-9614-909fc1fdd06b'}], 'classifications': []}\n"
          ]
        }
      ],
      "source": [
        "import json\n",
        " \n",
        "with open('/content/liver_data_annotations.json', 'r') as f:\n",
        "    data = json.load(f)\n",
        "    \n",
        "print(data['examples'][0])"
      ]
    },
    {
      "cell_type": "code",
      "execution_count": null,
      "metadata": {
        "colab": {
          "base_uri": "https://localhost:8080/"
        },
        "outputId": "def5d4f0-4282-4e8c-cabd-86561babe626",
        "id": "772aB9QavdD5"
      },
      "outputs": [
        {
          "output_type": "stream",
          "name": "stdout",
          "text": [
            "{'text': 'OCANASH 5 contains Obeticholic acid which belongs to the group of medicines called Farnesoid X receptor agonists. It is used to treat primary biliary cholangitis (also known as primary biliary cirrhosis) in adults, either by itself or together with other medicine (called ursodeoxycholic acid).', 'entities': [(19, 35, 'COMPONENT'), (0, 9, 'NAME')]}\n"
          ]
        }
      ],
      "source": [
        "training_data = {'classes' : [\"Name\", \"Components\"], 'annotations' : []}\n",
        "for example in data['examples']:\n",
        "  temp_dict = {}\n",
        "  temp_dict['text'] = example['content']\n",
        "  temp_dict['entities'] = []\n",
        "  for annotation in example['annotations']:\n",
        "    start = annotation['start']\n",
        "    end = annotation['end']\n",
        "    label = annotation['tag'].upper()\n",
        "    temp_dict['entities'].append((start, end, label))\n",
        "  training_data['annotations'].append(temp_dict)\n",
        "  \n",
        "print(training_data['annotations'][0])"
      ]
    },
    {
      "cell_type": "code",
      "source": [
        "import locale\n",
        "def getpreferredencoding(do_setlocale = True):\n",
        "    return \"UTF-8\"\n",
        "locale.getpreferredencoding = getpreferredencoding"
      ],
      "metadata": {
        "id": "YZaDSVC5wPsb"
      },
      "execution_count": null,
      "outputs": []
    },
    {
      "cell_type": "code",
      "source": [
        "!python -m spacy download en_core_web_lg -q"
      ],
      "metadata": {
        "colab": {
          "base_uri": "https://localhost:8080/"
        },
        "id": "NhnqhFmQvwiI",
        "outputId": "e7eb6a67-2554-4f50-af06-37f94b104133"
      },
      "execution_count": null,
      "outputs": [
        {
          "output_type": "stream",
          "name": "stdout",
          "text": [
            "2023-02-12 13:12:12.933212: W tensorflow/compiler/xla/stream_executor/platform/default/dso_loader.cc:64] Could not load dynamic library 'libnvinfer.so.7'; dlerror: libnvinfer.so.7: cannot open shared object file: No such file or directory; LD_LIBRARY_PATH: /usr/lib64-nvidia\n",
            "2023-02-12 13:12:12.933365: W tensorflow/compiler/xla/stream_executor/platform/default/dso_loader.cc:64] Could not load dynamic library 'libnvinfer_plugin.so.7'; dlerror: libnvinfer_plugin.so.7: cannot open shared object file: No such file or directory; LD_LIBRARY_PATH: /usr/lib64-nvidia\n",
            "2023-02-12 13:12:12.933389: W tensorflow/compiler/tf2tensorrt/utils/py_utils.cc:38] TF-TRT Warning: Cannot dlopen some TensorRT libraries. If you would like to use Nvidia GPU with TensorRT, please make sure the missing libraries mentioned above are installed properly.\n",
            "\u001b[2K     \u001b[90m━━━━━━━━━━━━━━━━━━━━━━━━━━━━━━━━━━━━━━━\u001b[0m \u001b[32m587.7/587.7 MB\u001b[0m \u001b[31m2.9 MB/s\u001b[0m eta \u001b[36m0:00:00\u001b[0m\n",
            "\u001b[?25h\u001b[38;5;2m✔ Download and installation successful\u001b[0m\n",
            "You can now load the package via spacy.load('en_core_web_lg')\n"
          ]
        }
      ]
    },
    {
      "cell_type": "markdown",
      "source": [
        "**Training for Description Data**"
      ],
      "metadata": {
        "id": "KQz_zSw15vZq"
      }
    },
    {
      "cell_type": "code",
      "source": [
        "!pip install spacy[transformers]"
      ],
      "metadata": {
        "id": "Y3NkutYbwTy4"
      },
      "execution_count": null,
      "outputs": []
    },
    {
      "cell_type": "code",
      "execution_count": null,
      "metadata": {
        "id": "zphuOHS1_0OX"
      },
      "outputs": [],
      "source": [
        "import spacy\n",
        "from spacy.tokens import DocBin\n",
        "from tqdm import tqdm\n",
        "\n",
        "nlp = spacy.blank(\"en\") # load a new spacy model\n",
        "doc_bin = DocBin() # create a DocBin object"
      ]
    },
    {
      "cell_type": "code",
      "execution_count": null,
      "metadata": {
        "colab": {
          "base_uri": "https://localhost:8080/"
        },
        "id": "bEBpyXWT___G",
        "outputId": "b2147aae-e80e-4db8-9f5d-a91c8726dbcd"
      },
      "outputs": [
        {
          "output_type": "stream",
          "name": "stderr",
          "text": [
            "100%|██████████| 52/52 [00:00<00:00, 1882.59it/s]\n"
          ]
        }
      ],
      "source": [
        "from spacy.util import filter_spans\n",
        "\n",
        "for training_example  in tqdm(training_data['annotations']): \n",
        "    text = training_example['text']\n",
        "    labels = training_example['entities']\n",
        "    doc = nlp.make_doc(text) \n",
        "    ents = []\n",
        "    for start, end, label in labels:\n",
        "        span = doc.char_span(start, end, label=label, alignment_mode=\"contract\")\n",
        "        if span is None:\n",
        "            print(\"Skipping entity\")\n",
        "        else:\n",
        "            ents.append(span)\n",
        "    filtered_ents = filter_spans(ents)\n",
        "    doc.ents = filtered_ents \n",
        "    doc_bin.add(doc)\n",
        "\n",
        "doc_bin.to_disk(\"training_data.spacy\")"
      ]
    },
    {
      "cell_type": "code",
      "source": [
        "!python -m spacy init fill-config base_config.cfg config.cfg"
      ],
      "metadata": {
        "colab": {
          "base_uri": "https://localhost:8080/"
        },
        "id": "01h71tOCw6a9",
        "outputId": "bd163b62-bd02-48e6-9dd5-8180046bd166"
      },
      "execution_count": null,
      "outputs": [
        {
          "output_type": "stream",
          "name": "stdout",
          "text": [
            "2023-02-12 13:18:38.997993: W tensorflow/compiler/xla/stream_executor/platform/default/dso_loader.cc:64] Could not load dynamic library 'libnvinfer.so.7'; dlerror: libnvinfer.so.7: cannot open shared object file: No such file or directory; LD_LIBRARY_PATH: /usr/lib64-nvidia\n",
            "2023-02-12 13:18:38.998135: W tensorflow/compiler/xla/stream_executor/platform/default/dso_loader.cc:64] Could not load dynamic library 'libnvinfer_plugin.so.7'; dlerror: libnvinfer_plugin.so.7: cannot open shared object file: No such file or directory; LD_LIBRARY_PATH: /usr/lib64-nvidia\n",
            "2023-02-12 13:18:38.998159: W tensorflow/compiler/tf2tensorrt/utils/py_utils.cc:38] TF-TRT Warning: Cannot dlopen some TensorRT libraries. If you would like to use Nvidia GPU with TensorRT, please make sure the missing libraries mentioned above are installed properly.\n",
            "\u001b[38;5;2m✔ Auto-filled config with all values\u001b[0m\n",
            "\u001b[38;5;2m✔ Saved config\u001b[0m\n",
            "config.cfg\n",
            "You can now add your data and train your pipeline:\n",
            "python -m spacy train config.cfg --paths.train ./train.spacy --paths.dev ./dev.spacy\n"
          ]
        }
      ]
    },
    {
      "cell_type": "code",
      "source": [
        "!python -m spacy train config.cfg --output ./ --paths.train ./training_data.spacy --paths.dev ./training_data.spacy --gpu-id 0"
      ],
      "metadata": {
        "colab": {
          "base_uri": "https://localhost:8080/"
        },
        "id": "DMKNKBIzxBNz",
        "outputId": "fec6d8fe-648d-4b4b-c684-9683ec08cb53"
      },
      "execution_count": null,
      "outputs": [
        {
          "output_type": "stream",
          "name": "stdout",
          "text": [
            "2023-02-12 13:18:53.423301: W tensorflow/compiler/xla/stream_executor/platform/default/dso_loader.cc:64] Could not load dynamic library 'libnvinfer.so.7'; dlerror: libnvinfer.so.7: cannot open shared object file: No such file or directory; LD_LIBRARY_PATH: /usr/lib64-nvidia\n",
            "2023-02-12 13:18:53.423444: W tensorflow/compiler/xla/stream_executor/platform/default/dso_loader.cc:64] Could not load dynamic library 'libnvinfer_plugin.so.7'; dlerror: libnvinfer_plugin.so.7: cannot open shared object file: No such file or directory; LD_LIBRARY_PATH: /usr/lib64-nvidia\n",
            "2023-02-12 13:18:53.423472: W tensorflow/compiler/tf2tensorrt/utils/py_utils.cc:38] TF-TRT Warning: Cannot dlopen some TensorRT libraries. If you would like to use Nvidia GPU with TensorRT, please make sure the missing libraries mentioned above are installed properly.\n",
            "\u001b[38;5;4mℹ Saving to output directory: .\u001b[0m\n",
            "\u001b[38;5;4mℹ Using GPU: 0\u001b[0m\n",
            "\u001b[1m\n",
            "=========================== Initializing pipeline ===========================\u001b[0m\n",
            "[2023-02-12 13:19:00,199] [INFO] Set up nlp object from config\n",
            "INFO:spacy:Set up nlp object from config\n",
            "[2023-02-12 13:19:00,209] [INFO] Pipeline: ['transformer', 'ner']\n",
            "INFO:spacy:Pipeline: ['transformer', 'ner']\n",
            "[2023-02-12 13:19:00,212] [INFO] Created vocabulary\n",
            "INFO:spacy:Created vocabulary\n",
            "[2023-02-12 13:19:00,213] [INFO] Finished initializing nlp object\n",
            "INFO:spacy:Finished initializing nlp object\n",
            "Some weights of the model checkpoint at roberta-base were not used when initializing RobertaModel: ['lm_head.dense.weight', 'lm_head.dense.bias', 'lm_head.layer_norm.bias', 'lm_head.layer_norm.weight', 'lm_head.decoder.weight', 'lm_head.bias']\n",
            "- This IS expected if you are initializing RobertaModel from the checkpoint of a model trained on another task or with another architecture (e.g. initializing a BertForSequenceClassification model from a BertForPreTraining model).\n",
            "- This IS NOT expected if you are initializing RobertaModel from the checkpoint of a model that you expect to be exactly identical (initializing a BertForSequenceClassification model from a BertForSequenceClassification model).\n",
            "[2023-02-12 13:19:19,501] [INFO] Initialized pipeline components: ['transformer', 'ner']\n",
            "INFO:spacy:Initialized pipeline components: ['transformer', 'ner']\n",
            "\u001b[38;5;2m✔ Initialized pipeline\u001b[0m\n",
            "\u001b[1m\n",
            "============================= Training pipeline =============================\u001b[0m\n",
            "\u001b[38;5;4mℹ Pipeline: ['transformer', 'ner']\u001b[0m\n",
            "\u001b[38;5;4mℹ Initial learn rate: 0.0\u001b[0m\n",
            "E    #       LOSS TRANS...  LOSS NER  ENTS_F  ENTS_P  ENTS_R  SCORE \n",
            "---  ------  -------------  --------  ------  ------  ------  ------\n",
            "  0       0         875.72     98.46    0.00    0.00    0.00    0.00\n",
            " 66     200       64887.33  19811.30  100.00  100.00  100.00    1.00\n",
            "133     400           0.00    140.92  100.00  100.00  100.00    1.00\n",
            "200     600           0.00    140.56  100.00  100.00  100.00    1.00\n",
            "266     800           0.00    137.82  100.00  100.00  100.00    1.00\n",
            "333    1000           0.00    132.86  100.00  100.00  100.00    1.00\n",
            "400    1200           0.00    131.69  100.00  100.00  100.00    1.00\n",
            "466    1400           0.00    128.19  100.00  100.00  100.00    1.00\n",
            "533    1600           0.00    122.67  100.00  100.00  100.00    1.00\n",
            "600    1800           0.00    120.43  100.00  100.00  100.00    1.00\n",
            "\u001b[38;5;2m✔ Saved pipeline to output directory\u001b[0m\n",
            "model-last\n"
          ]
        }
      ]
    },
    {
      "cell_type": "code",
      "source": [
        "!pip install 'spacy[transformers]'"
      ],
      "metadata": {
        "id": "94U2-Xzz2j2f"
      },
      "execution_count": null,
      "outputs": []
    },
    {
      "cell_type": "code",
      "source": [
        "import spacy_transformers"
      ],
      "metadata": {
        "id": "1jqkJ9ih20iw"
      },
      "execution_count": null,
      "outputs": []
    },
    {
      "cell_type": "code",
      "source": [
        "nlp_ner = spacy.load(\"model-best\")"
      ],
      "metadata": {
        "id": "J1A9Ffyz0jYh",
        "colab": {
          "base_uri": "https://localhost:8080/",
          "height": 311
        },
        "outputId": "80a632ac-9c2f-4498-88a2-93f7ca6175c8"
      },
      "execution_count": null,
      "outputs": [
        {
          "output_type": "error",
          "ename": "OSError",
          "evalue": "ignored",
          "traceback": [
            "\u001b[0;31m---------------------------------------------------------------------------\u001b[0m",
            "\u001b[0;31mOSError\u001b[0m                                   Traceback (most recent call last)",
            "\u001b[0;32m<ipython-input-6-66c69ac7970a>\u001b[0m in \u001b[0;36m<module>\u001b[0;34m\u001b[0m\n\u001b[0;32m----> 1\u001b[0;31m \u001b[0mnlp_ner\u001b[0m \u001b[0;34m=\u001b[0m \u001b[0mspacy\u001b[0m\u001b[0;34m.\u001b[0m\u001b[0mload\u001b[0m\u001b[0;34m(\u001b[0m\u001b[0;34m\"/content/ner\"\u001b[0m\u001b[0;34m)\u001b[0m\u001b[0;34m\u001b[0m\u001b[0;34m\u001b[0m\u001b[0m\n\u001b[0m",
            "\u001b[0;32m/usr/local/lib/python3.8/dist-packages/spacy/__init__.py\u001b[0m in \u001b[0;36mload\u001b[0;34m(name, vocab, disable, enable, exclude, config)\u001b[0m\n\u001b[1;32m     52\u001b[0m     \u001b[0mRETURNS\u001b[0m \u001b[0;34m(\u001b[0m\u001b[0mLanguage\u001b[0m\u001b[0;34m)\u001b[0m\u001b[0;34m:\u001b[0m \u001b[0mThe\u001b[0m \u001b[0mloaded\u001b[0m \u001b[0mnlp\u001b[0m \u001b[0mobject\u001b[0m\u001b[0;34m.\u001b[0m\u001b[0;34m\u001b[0m\u001b[0;34m\u001b[0m\u001b[0m\n\u001b[1;32m     53\u001b[0m     \"\"\"\n\u001b[0;32m---> 54\u001b[0;31m     return util.load_model(\n\u001b[0m\u001b[1;32m     55\u001b[0m         \u001b[0mname\u001b[0m\u001b[0;34m,\u001b[0m\u001b[0;34m\u001b[0m\u001b[0;34m\u001b[0m\u001b[0m\n\u001b[1;32m     56\u001b[0m         \u001b[0mvocab\u001b[0m\u001b[0;34m=\u001b[0m\u001b[0mvocab\u001b[0m\u001b[0;34m,\u001b[0m\u001b[0;34m\u001b[0m\u001b[0;34m\u001b[0m\u001b[0m\n",
            "\u001b[0;32m/usr/local/lib/python3.8/dist-packages/spacy/util.py\u001b[0m in \u001b[0;36mload_model\u001b[0;34m(name, vocab, disable, enable, exclude, config)\u001b[0m\n\u001b[1;32m    432\u001b[0m             \u001b[0;32mreturn\u001b[0m \u001b[0mload_model_from_package\u001b[0m\u001b[0;34m(\u001b[0m\u001b[0mname\u001b[0m\u001b[0;34m,\u001b[0m \u001b[0;34m**\u001b[0m\u001b[0mkwargs\u001b[0m\u001b[0;34m)\u001b[0m  \u001b[0;31m# type: ignore[arg-type]\u001b[0m\u001b[0;34m\u001b[0m\u001b[0;34m\u001b[0m\u001b[0m\n\u001b[1;32m    433\u001b[0m         \u001b[0;32mif\u001b[0m \u001b[0mPath\u001b[0m\u001b[0;34m(\u001b[0m\u001b[0mname\u001b[0m\u001b[0;34m)\u001b[0m\u001b[0;34m.\u001b[0m\u001b[0mexists\u001b[0m\u001b[0;34m(\u001b[0m\u001b[0;34m)\u001b[0m\u001b[0;34m:\u001b[0m  \u001b[0;31m# path to model data directory\u001b[0m\u001b[0;34m\u001b[0m\u001b[0;34m\u001b[0m\u001b[0m\n\u001b[0;32m--> 434\u001b[0;31m             \u001b[0;32mreturn\u001b[0m \u001b[0mload_model_from_path\u001b[0m\u001b[0;34m(\u001b[0m\u001b[0mPath\u001b[0m\u001b[0;34m(\u001b[0m\u001b[0mname\u001b[0m\u001b[0;34m)\u001b[0m\u001b[0;34m,\u001b[0m \u001b[0;34m**\u001b[0m\u001b[0mkwargs\u001b[0m\u001b[0;34m)\u001b[0m  \u001b[0;31m# type: ignore[arg-type]\u001b[0m\u001b[0;34m\u001b[0m\u001b[0;34m\u001b[0m\u001b[0m\n\u001b[0m\u001b[1;32m    435\u001b[0m     \u001b[0;32melif\u001b[0m \u001b[0mhasattr\u001b[0m\u001b[0;34m(\u001b[0m\u001b[0mname\u001b[0m\u001b[0;34m,\u001b[0m \u001b[0;34m\"exists\"\u001b[0m\u001b[0;34m)\u001b[0m\u001b[0;34m:\u001b[0m  \u001b[0;31m# Path or Path-like to model data\u001b[0m\u001b[0;34m\u001b[0m\u001b[0;34m\u001b[0m\u001b[0m\n\u001b[1;32m    436\u001b[0m         \u001b[0;32mreturn\u001b[0m \u001b[0mload_model_from_path\u001b[0m\u001b[0;34m(\u001b[0m\u001b[0mname\u001b[0m\u001b[0;34m,\u001b[0m \u001b[0;34m**\u001b[0m\u001b[0mkwargs\u001b[0m\u001b[0;34m)\u001b[0m  \u001b[0;31m# type: ignore[arg-type]\u001b[0m\u001b[0;34m\u001b[0m\u001b[0;34m\u001b[0m\u001b[0m\n",
            "\u001b[0;32m/usr/local/lib/python3.8/dist-packages/spacy/util.py\u001b[0m in \u001b[0;36mload_model_from_path\u001b[0;34m(model_path, meta, vocab, disable, enable, exclude, config)\u001b[0m\n\u001b[1;32m    500\u001b[0m         \u001b[0;32mraise\u001b[0m \u001b[0mIOError\u001b[0m\u001b[0;34m(\u001b[0m\u001b[0mErrors\u001b[0m\u001b[0;34m.\u001b[0m\u001b[0mE052\u001b[0m\u001b[0;34m.\u001b[0m\u001b[0mformat\u001b[0m\u001b[0;34m(\u001b[0m\u001b[0mpath\u001b[0m\u001b[0;34m=\u001b[0m\u001b[0mmodel_path\u001b[0m\u001b[0;34m)\u001b[0m\u001b[0;34m)\u001b[0m\u001b[0;34m\u001b[0m\u001b[0;34m\u001b[0m\u001b[0m\n\u001b[1;32m    501\u001b[0m     \u001b[0;32mif\u001b[0m \u001b[0;32mnot\u001b[0m \u001b[0mmeta\u001b[0m\u001b[0;34m:\u001b[0m\u001b[0;34m\u001b[0m\u001b[0;34m\u001b[0m\u001b[0m\n\u001b[0;32m--> 502\u001b[0;31m         \u001b[0mmeta\u001b[0m \u001b[0;34m=\u001b[0m \u001b[0mget_model_meta\u001b[0m\u001b[0;34m(\u001b[0m\u001b[0mmodel_path\u001b[0m\u001b[0;34m)\u001b[0m\u001b[0;34m\u001b[0m\u001b[0;34m\u001b[0m\u001b[0m\n\u001b[0m\u001b[1;32m    503\u001b[0m     \u001b[0mconfig_path\u001b[0m \u001b[0;34m=\u001b[0m \u001b[0mmodel_path\u001b[0m \u001b[0;34m/\u001b[0m \u001b[0;34m\"config.cfg\"\u001b[0m\u001b[0;34m\u001b[0m\u001b[0;34m\u001b[0m\u001b[0m\n\u001b[1;32m    504\u001b[0m     \u001b[0moverrides\u001b[0m \u001b[0;34m=\u001b[0m \u001b[0mdict_to_dot\u001b[0m\u001b[0;34m(\u001b[0m\u001b[0mconfig\u001b[0m\u001b[0;34m)\u001b[0m\u001b[0;34m\u001b[0m\u001b[0;34m\u001b[0m\u001b[0m\n",
            "\u001b[0;32m/usr/local/lib/python3.8/dist-packages/spacy/util.py\u001b[0m in \u001b[0;36mget_model_meta\u001b[0;34m(path)\u001b[0m\n\u001b[1;32m    894\u001b[0m     \"\"\"\n\u001b[1;32m    895\u001b[0m     \u001b[0mmodel_path\u001b[0m \u001b[0;34m=\u001b[0m \u001b[0mensure_path\u001b[0m\u001b[0;34m(\u001b[0m\u001b[0mpath\u001b[0m\u001b[0;34m)\u001b[0m\u001b[0;34m\u001b[0m\u001b[0;34m\u001b[0m\u001b[0m\n\u001b[0;32m--> 896\u001b[0;31m     \u001b[0;32mreturn\u001b[0m \u001b[0mload_meta\u001b[0m\u001b[0;34m(\u001b[0m\u001b[0mmodel_path\u001b[0m \u001b[0;34m/\u001b[0m \u001b[0;34m\"meta.json\"\u001b[0m\u001b[0;34m)\u001b[0m\u001b[0;34m\u001b[0m\u001b[0;34m\u001b[0m\u001b[0m\n\u001b[0m\u001b[1;32m    897\u001b[0m \u001b[0;34m\u001b[0m\u001b[0m\n\u001b[1;32m    898\u001b[0m \u001b[0;34m\u001b[0m\u001b[0m\n",
            "\u001b[0;32m/usr/local/lib/python3.8/dist-packages/spacy/util.py\u001b[0m in \u001b[0;36mload_meta\u001b[0;34m(path)\u001b[0m\n\u001b[1;32m    854\u001b[0m         \u001b[0;32mraise\u001b[0m \u001b[0mIOError\u001b[0m\u001b[0;34m(\u001b[0m\u001b[0mErrors\u001b[0m\u001b[0;34m.\u001b[0m\u001b[0mE052\u001b[0m\u001b[0;34m.\u001b[0m\u001b[0mformat\u001b[0m\u001b[0;34m(\u001b[0m\u001b[0mpath\u001b[0m\u001b[0;34m=\u001b[0m\u001b[0mpath\u001b[0m\u001b[0;34m.\u001b[0m\u001b[0mparent\u001b[0m\u001b[0;34m)\u001b[0m\u001b[0;34m)\u001b[0m\u001b[0;34m\u001b[0m\u001b[0;34m\u001b[0m\u001b[0m\n\u001b[1;32m    855\u001b[0m     \u001b[0;32mif\u001b[0m \u001b[0;32mnot\u001b[0m \u001b[0mpath\u001b[0m\u001b[0;34m.\u001b[0m\u001b[0mexists\u001b[0m\u001b[0;34m(\u001b[0m\u001b[0;34m)\u001b[0m \u001b[0;32mor\u001b[0m \u001b[0;32mnot\u001b[0m \u001b[0mpath\u001b[0m\u001b[0;34m.\u001b[0m\u001b[0mis_file\u001b[0m\u001b[0;34m(\u001b[0m\u001b[0;34m)\u001b[0m\u001b[0;34m:\u001b[0m\u001b[0;34m\u001b[0m\u001b[0;34m\u001b[0m\u001b[0m\n\u001b[0;32m--> 856\u001b[0;31m         \u001b[0;32mraise\u001b[0m \u001b[0mIOError\u001b[0m\u001b[0;34m(\u001b[0m\u001b[0mErrors\u001b[0m\u001b[0;34m.\u001b[0m\u001b[0mE053\u001b[0m\u001b[0;34m.\u001b[0m\u001b[0mformat\u001b[0m\u001b[0;34m(\u001b[0m\u001b[0mpath\u001b[0m\u001b[0;34m=\u001b[0m\u001b[0mpath\u001b[0m\u001b[0;34m.\u001b[0m\u001b[0mparent\u001b[0m\u001b[0;34m,\u001b[0m \u001b[0mname\u001b[0m\u001b[0;34m=\u001b[0m\u001b[0;34m\"meta.json\"\u001b[0m\u001b[0;34m)\u001b[0m\u001b[0;34m)\u001b[0m\u001b[0;34m\u001b[0m\u001b[0;34m\u001b[0m\u001b[0m\n\u001b[0m\u001b[1;32m    857\u001b[0m     \u001b[0mmeta\u001b[0m \u001b[0;34m=\u001b[0m \u001b[0msrsly\u001b[0m\u001b[0;34m.\u001b[0m\u001b[0mread_json\u001b[0m\u001b[0;34m(\u001b[0m\u001b[0mpath\u001b[0m\u001b[0;34m)\u001b[0m\u001b[0;34m\u001b[0m\u001b[0;34m\u001b[0m\u001b[0m\n\u001b[1;32m    858\u001b[0m     \u001b[0;32mfor\u001b[0m \u001b[0msetting\u001b[0m \u001b[0;32min\u001b[0m \u001b[0;34m[\u001b[0m\u001b[0;34m\"lang\"\u001b[0m\u001b[0;34m,\u001b[0m \u001b[0;34m\"name\"\u001b[0m\u001b[0;34m,\u001b[0m \u001b[0;34m\"version\"\u001b[0m\u001b[0;34m]\u001b[0m\u001b[0;34m:\u001b[0m\u001b[0;34m\u001b[0m\u001b[0;34m\u001b[0m\u001b[0m\n",
            "\u001b[0;31mOSError\u001b[0m: [E053] Could not read meta.json from /content/ner"
          ]
        }
      ]
    },
    {
      "cell_type": "code",
      "execution_count": null,
      "metadata": {
        "id": "s3RYmC2WFEao"
      },
      "outputs": [],
      "source": [
        "doc=nlp_ner(\"Each film coated tablet contains you must not take this medicine if you are preonant or may likely become pregnant during treatment. Isotretinoin IP (micronized 10 mg Excipients q.s. anixa Colour:Ponceau 4R Lake Dosage: LifoScionces As directed by the Physician A WHO GMP Certified Company Storage:Store below 25C Manufactured by Protect from sunlight and moisture Canixa Life Sciences Pvt.Ltd KEEP OUT OF REACH OF CHILDREN K.No.313.Raipur Industrial Area.Bhagwanpur See pack insert before use Roorkee,Dist. Haridwar.Uarakhand-247667 Email:info@canixalife.com Mfg.Lic.No.:3/UA/SC/P-2016 TM-Trademark Under RegistraSon Saferet-10 Saferet-10 Saferet-10 sotretinin (micronied)Tablets 10mg A Saferet-10 TM SCHEOULE H PRESCRIPTION DRUG-CAUTION Not to be sold by retail without the prescription of a egitered Medical Practitioner 14-10 WARNING TO FEMALE PATIENTS Composition : This medicine may cause severe birth dedects you must not take this medicine if y ou are pregnant Each film coated tablet contains or may likely become pregnant during treatmant Isotretinoin IP (micronized10 mg Excipients q.s. anixa ColourPonceau 4R Lake Dosage: Lile Scioncos As directed by the Physician (A WHO GMP Certified Company) Storage:Store below 25C Manufactured by: Drntant trom cunlinht and mnichara Canixa Life Sciences Pvt.Ltd\")"
      ]
    },
    {
      "cell_type": "code",
      "execution_count": null,
      "metadata": {
        "colab": {
          "base_uri": "https://localhost:8080/",
          "height": 297
        },
        "id": "x3rgYzIQEsGy",
        "outputId": "f2dac35a-5cdf-4e63-d18f-eff4e0f9ab0e"
      },
      "outputs": [
        {
          "output_type": "display_data",
          "data": {
            "text/plain": [
              "<IPython.core.display.HTML object>"
            ],
            "text/html": [
              "<span class=\"tex2jax_ignore\"><div class=\"entities\" style=\"line-height: 2.5; direction: ltr\">Each film coated tablet contains you must not take this medicine if you are preonant or may likely become pregnant during treatment. \n",
              "<mark class=\"entity\" style=\"background: #F67DE3; padding: 0.45em 0.6em; margin: 0 0.25em; line-height: 1; border-radius: 0.35em;\">\n",
              "    Isotretinoin\n",
              "    <span style=\"font-size: 0.8em; font-weight: bold; line-height: 1; border-radius: 0.35em; vertical-align: middle; margin-left: 0.5rem\">COMPONENT</span>\n",
              "</mark>\n",
              " IP (micronized 10 mg Excipients q.s. anixa Colour:\n",
              "<mark class=\"entity\" style=\"background: #7DF6D9; padding: 0.45em 0.6em; margin: 0 0.25em; line-height: 1; border-radius: 0.35em;\">\n",
              "    Ponceau 4R Lake\n",
              "    <span style=\"font-size: 0.8em; font-weight: bold; line-height: 1; border-radius: 0.35em; vertical-align: middle; margin-left: 0.5rem\">NAME</span>\n",
              "</mark>\n",
              " Dosage: \n",
              "<mark class=\"entity\" style=\"background: #7DF6D9; padding: 0.45em 0.6em; margin: 0 0.25em; line-height: 1; border-radius: 0.35em;\">\n",
              "    LifoScionces As\n",
              "    <span style=\"font-size: 0.8em; font-weight: bold; line-height: 1; border-radius: 0.35em; vertical-align: middle; margin-left: 0.5rem\">NAME</span>\n",
              "</mark>\n",
              " directed by the Physician \n",
              "<mark class=\"entity\" style=\"background: #7DF6D9; padding: 0.45em 0.6em; margin: 0 0.25em; line-height: 1; border-radius: 0.35em;\">\n",
              "    A WHO GMP Certified Company\n",
              "    <span style=\"font-size: 0.8em; font-weight: bold; line-height: 1; border-radius: 0.35em; vertical-align: middle; margin-left: 0.5rem\">NAME</span>\n",
              "</mark>\n",
              " Storage:Store below 25C Manufactured by Protect from sunlight and moisture Canixa Life Sciences Pvt.Ltd KEEP OUT OF REACH OF CHILDREN K.No.313.Raipur Industrial Area.Bhagwanpur See pack insert before use Roorkee,\n",
              "<mark class=\"entity\" style=\"background: #7DF6D9; padding: 0.45em 0.6em; margin: 0 0.25em; line-height: 1; border-radius: 0.35em;\">\n",
              "    Dist\n",
              "    <span style=\"font-size: 0.8em; font-weight: bold; line-height: 1; border-radius: 0.35em; vertical-align: middle; margin-left: 0.5rem\">NAME</span>\n",
              "</mark>\n",
              ". \n",
              "<mark class=\"entity\" style=\"background: #7DF6D9; padding: 0.45em 0.6em; margin: 0 0.25em; line-height: 1; border-radius: 0.35em;\">\n",
              "    Haridwar\n",
              "    <span style=\"font-size: 0.8em; font-weight: bold; line-height: 1; border-radius: 0.35em; vertical-align: middle; margin-left: 0.5rem\">NAME</span>\n",
              "</mark>\n",
              ".\n",
              "<mark class=\"entity\" style=\"background: #7DF6D9; padding: 0.45em 0.6em; margin: 0 0.25em; line-height: 1; border-radius: 0.35em;\">\n",
              "    Uarakhand-247667\n",
              "    <span style=\"font-size: 0.8em; font-weight: bold; line-height: 1; border-radius: 0.35em; vertical-align: middle; margin-left: 0.5rem\">NAME</span>\n",
              "</mark>\n",
              " Email:info@canixalife.com Mfg\n",
              "<mark class=\"entity\" style=\"background: #7DF6D9; padding: 0.45em 0.6em; margin: 0 0.25em; line-height: 1; border-radius: 0.35em;\">\n",
              "    .Lic\n",
              "    <span style=\"font-size: 0.8em; font-weight: bold; line-height: 1; border-radius: 0.35em; vertical-align: middle; margin-left: 0.5rem\">NAME</span>\n",
              "</mark>\n",
              "\n",
              "<mark class=\"entity\" style=\"background: #7DF6D9; padding: 0.45em 0.6em; margin: 0 0.25em; line-height: 1; border-radius: 0.35em;\">\n",
              "    .No.:3/UA/\n",
              "    <span style=\"font-size: 0.8em; font-weight: bold; line-height: 1; border-radius: 0.35em; vertical-align: middle; margin-left: 0.5rem\">NAME</span>\n",
              "</mark>\n",
              "\n",
              "<mark class=\"entity\" style=\"background: #7DF6D9; padding: 0.45em 0.6em; margin: 0 0.25em; line-height: 1; border-radius: 0.35em;\">\n",
              "    SC/\n",
              "    <span style=\"font-size: 0.8em; font-weight: bold; line-height: 1; border-radius: 0.35em; vertical-align: middle; margin-left: 0.5rem\">NAME</span>\n",
              "</mark>\n",
              "\n",
              "<mark class=\"entity\" style=\"background: #7DF6D9; padding: 0.45em 0.6em; margin: 0 0.25em; line-height: 1; border-radius: 0.35em;\">\n",
              "    P-2016 TM-Trademark\n",
              "    <span style=\"font-size: 0.8em; font-weight: bold; line-height: 1; border-radius: 0.35em; vertical-align: middle; margin-left: 0.5rem\">NAME</span>\n",
              "</mark>\n",
              " \n",
              "<mark class=\"entity\" style=\"background: #7DF6D9; padding: 0.45em 0.6em; margin: 0 0.25em; line-height: 1; border-radius: 0.35em;\">\n",
              "    Under RegistraSon\n",
              "    <span style=\"font-size: 0.8em; font-weight: bold; line-height: 1; border-radius: 0.35em; vertical-align: middle; margin-left: 0.5rem\">NAME</span>\n",
              "</mark>\n",
              " Saferet-10 Saferet-10 Saferet-10 \n",
              "<mark class=\"entity\" style=\"background: #F67DE3; padding: 0.45em 0.6em; margin: 0 0.25em; line-height: 1; border-radius: 0.35em;\">\n",
              "    sotretinin\n",
              "    <span style=\"font-size: 0.8em; font-weight: bold; line-height: 1; border-radius: 0.35em; vertical-align: middle; margin-left: 0.5rem\">COMPONENT</span>\n",
              "</mark>\n",
              " (micronied)Tablets 10mg A Saferet-10 TM \n",
              "<mark class=\"entity\" style=\"background: #7DF6D9; padding: 0.45em 0.6em; margin: 0 0.25em; line-height: 1; border-radius: 0.35em;\">\n",
              "    SCHEOULE H PRESCRIPTION DRUG\n",
              "    <span style=\"font-size: 0.8em; font-weight: bold; line-height: 1; border-radius: 0.35em; vertical-align: middle; margin-left: 0.5rem\">NAME</span>\n",
              "</mark>\n",
              "\n",
              "<mark class=\"entity\" style=\"background: #7DF6D9; padding: 0.45em 0.6em; margin: 0 0.25em; line-height: 1; border-radius: 0.35em;\">\n",
              "    -CAUTION\n",
              "    <span style=\"font-size: 0.8em; font-weight: bold; line-height: 1; border-radius: 0.35em; vertical-align: middle; margin-left: 0.5rem\">NAME</span>\n",
              "</mark>\n",
              " Not to be sold by retail without the prescription of a egitered Medical Practitioner \n",
              "<mark class=\"entity\" style=\"background: #7DF6D9; padding: 0.45em 0.6em; margin: 0 0.25em; line-height: 1; border-radius: 0.35em;\">\n",
              "    14-\n",
              "    <span style=\"font-size: 0.8em; font-weight: bold; line-height: 1; border-radius: 0.35em; vertical-align: middle; margin-left: 0.5rem\">NAME</span>\n",
              "</mark>\n",
              "10 WARNING TO FEMALE PATIENTS Composition : This medicine may cause severe birth dedects you must not take this medicine if y ou are pregnant Each film coated tablet contains or may likely become pregnant during treatmant \n",
              "<mark class=\"entity\" style=\"background: #F67DE3; padding: 0.45em 0.6em; margin: 0 0.25em; line-height: 1; border-radius: 0.35em;\">\n",
              "    Isotretinoin\n",
              "    <span style=\"font-size: 0.8em; font-weight: bold; line-height: 1; border-radius: 0.35em; vertical-align: middle; margin-left: 0.5rem\">COMPONENT</span>\n",
              "</mark>\n",
              " IP (micronized10 mg Excipients q.s. anixa \n",
              "<mark class=\"entity\" style=\"background: #7DF6D9; padding: 0.45em 0.6em; margin: 0 0.25em; line-height: 1; border-radius: 0.35em;\">\n",
              "    ColourPonceau 4R\n",
              "    <span style=\"font-size: 0.8em; font-weight: bold; line-height: 1; border-radius: 0.35em; vertical-align: middle; margin-left: 0.5rem\">NAME</span>\n",
              "</mark>\n",
              " Lake Dosage\n",
              "<mark class=\"entity\" style=\"background: #7DF6D9; padding: 0.45em 0.6em; margin: 0 0.25em; line-height: 1; border-radius: 0.35em;\">\n",
              "    : Lile Scioncos As\n",
              "    <span style=\"font-size: 0.8em; font-weight: bold; line-height: 1; border-radius: 0.35em; vertical-align: middle; margin-left: 0.5rem\">NAME</span>\n",
              "</mark>\n",
              " directed by the Physician (A WHO GMP Certified Company) Storage:Store below 25C Manufactured by: Drntant trom cunlinht and mnichara Canixa Life Sciences Pvt.Ltd</div></span>"
            ]
          },
          "metadata": {}
        }
      ],
      "source": [
        "colors = {\"COMPONENT\": \"#F67DE3\", \"NAME\": \"#7DF6D9\", \"MANUFACTURER\":\"#FFFFFF\"}\n",
        "options = {\"colors\": colors} \n",
        "\n",
        "spacy.displacy.render(doc, style=\"ent\", options= options, jupyter=True)"
      ]
    },
    {
      "cell_type": "markdown",
      "source": [
        "**Evaluation of Model**"
      ],
      "metadata": {
        "id": "VGqQUJva6AA0"
      }
    },
    {
      "cell_type": "code",
      "execution_count": null,
      "metadata": {
        "colab": {
          "base_uri": "https://localhost:8080/"
        },
        "outputId": "d8a77974-ce9e-46db-c898-b34041edd5cc",
        "id": "GiphYpMO5-sV"
      },
      "outputs": [
        {
          "output_type": "stream",
          "name": "stdout",
          "text": [
            "{'content': 'ACCUFINE 10MG CAPSULE contains Isotretinoin which belongs to the group of medicines called Retinoids. It is used in adults and children (older than 12 years of age) to treat severe form of acne (such as nodular acne, conglobate acne, and acne that is at risk of permanent scarring), which has not improved after other anti-acne treatments. Acne is an inflammatory skin condition which is characterized by spots, oily skin, nodular lesions etc. on face, back, and chest, which can be painful.', 'seen_by': [{'annotator': '19pd15@psgtech.ac.in', 'annotator_id': 1}], 'comments': [], 'metadata': {'': 0, 'link': 'https://www.netmeds.com/prescriptions/accufine-10mg-capsule-10s', 'tablet_name': \"ACCUFINE 10mg Capsule 10's\"}, 'example_id': 'd52368f7-81a9-4c13-a18a-046f4f248702', 'annotations': [{'end': 43, 'tag': 'COMPONENT', 'start': 31, 'value': 'Isotretinoin', 'tag_id': 'e0e81e6c-6d6d-4aef-885c-720919879183', 'correct': None, 'reviewed': False, 'example_id': 'd52368f7-81a9-4c13-a18a-046f4f248702', 'annotated_by': [{'annotator': '19pd15@psgtech.ac.in', 'timestamp': '2023-02-12T13:51:10.25+00:00', 'annotator_id': 1}], 'definition_id': '7e4896dc-ed52-43bc-b278-807bfdea24e3', 'tagged_token_id': '569d43d8-bc9c-4777-a3e3-6c67033039e9'}, {'end': 21, 'tag': 'NAME', 'start': 0, 'value': 'ACCUFINE 10MG CAPSULE', 'tag_id': '7a6c30e9-7ca1-4075-9aa5-09277b2c6a20', 'correct': None, 'reviewed': False, 'example_id': 'd52368f7-81a9-4c13-a18a-046f4f248702', 'annotated_by': [{'annotator': '19pd15@psgtech.ac.in', 'timestamp': '2023-02-12T13:51:08.937+00:00', 'annotator_id': 1}], 'definition_id': '7e4896dc-ed52-43bc-b278-807bfdea24e3', 'tagged_token_id': 'a99a26fd-32f9-4813-bd56-6e1dc147cff2'}], 'classifications': []}\n"
          ]
        }
      ],
      "source": [
        "import json\n",
        " \n",
        "with open('/content/desc_test_annotations.json', 'r') as f:\n",
        "    data = json.load(f)\n",
        "    \n",
        "print(data['examples'][0])"
      ]
    },
    {
      "cell_type": "code",
      "execution_count": null,
      "metadata": {
        "colab": {
          "base_uri": "https://localhost:8080/"
        },
        "outputId": "02e1a15a-4229-4976-c529-5377077c8700",
        "id": "Cdx6tIM15-sV"
      },
      "outputs": [
        {
          "output_type": "stream",
          "name": "stdout",
          "text": [
            "{'text': 'ACCUFINE 10MG CAPSULE contains Isotretinoin which belongs to the group of medicines called Retinoids. It is used in adults and children (older than 12 years of age) to treat severe form of acne (such as nodular acne, conglobate acne, and acne that is at risk of permanent scarring), which has not improved after other anti-acne treatments. Acne is an inflammatory skin condition which is characterized by spots, oily skin, nodular lesions etc. on face, back, and chest, which can be painful.', 'entities': [(31, 43, 'COMPONENT'), (0, 21, 'NAME')]}\n"
          ]
        }
      ],
      "source": [
        "testing_data = {'classes' : [\"Name\", \"Components\"], 'annotations' : []}\n",
        "for example in data['examples']:\n",
        "  temp_dict = {}\n",
        "  temp_dict['text'] = example['content']\n",
        "  temp_dict['entities'] = []\n",
        "  for annotation in example['annotations']:\n",
        "    start = annotation['start']\n",
        "    end = annotation['end']\n",
        "    label = annotation['tag'].upper()\n",
        "    temp_dict['entities'].append((start, end, label))\n",
        "  testing_data['annotations'].append(temp_dict)\n",
        "  \n",
        "print(testing_data['annotations'][0])"
      ]
    },
    {
      "cell_type": "code",
      "source": [
        "testing_data"
      ],
      "metadata": {
        "colab": {
          "base_uri": "https://localhost:8080/"
        },
        "id": "RPO1WdT19G4L",
        "outputId": "2eeb31f0-aac7-4d95-f921-453936c917ac"
      },
      "execution_count": null,
      "outputs": [
        {
          "output_type": "execute_result",
          "data": {
            "text/plain": [
              "{'classes': ['Name', 'Components'],\n",
              " 'annotations': [{'text': 'ACCUFINE 10MG CAPSULE contains Isotretinoin which belongs to the group of medicines called Retinoids. It is used in adults and children (older than 12 years of age) to treat severe form of acne (such as nodular acne, conglobate acne, and acne that is at risk of permanent scarring), which has not improved after other anti-acne treatments. Acne is an inflammatory skin condition which is characterized by spots, oily skin, nodular lesions etc. on face, back, and chest, which can be painful.',\n",
              "   'entities': [(31, 43, 'COMPONENT'), (0, 21, 'NAME')]},\n",
              "  {'text': 'ACCUFINE 20MG CAPSULE contains Isotretinoin which belongs to the group of medicines called Retinoids. It is used in adults and children (older than 12 years of age) to treat severe form of acne (such as nodular acne, conglobate acne, and acne that is at risk of permanent scarring), which has not improved after other anti-acne treatments. Acne is an inflammatory skin condition which is characterized by spots, oily skin, nodular lesions etc. on face, back, and chest, which can be painful.',\n",
              "   'entities': [(31, 43, 'COMPONENT'), (0, 21, 'NAME')]},\n",
              "  {'text': 'ACCUFINE 30MG CAPSULE contains Isotretinoin which belongs to the group of medicines called Retinoids. It is used in adults and children (older than 12 years of age) to treat severe form of acne (such as nodular acne, conglobate acne, and acne that is at risk of permanent scarring), which has not improved after other anti-acne treatments. Acne is an inflammatory skin condition which is characterized by spots, oily skin, nodular lesions etc. on face, back, and chest, which can be painful.',\n",
              "   'entities': [(0, 21, 'NAME'), (31, 43, 'COMPONENT')]},\n",
              "  {'text': 'ACCUFINE 40MG CAPSULE contains Isotretinoin which belongs to the group of medicines called Retinoids. It is used in adults and children (older than 12 years of age) to treat severe form of acne (such as nodular acne, conglobate acne, and acne that is at risk of permanent scarring), which has not improved after other anti-acne treatments. Acne is an inflammatory skin condition which is characterized by spots, oily skin, nodular lesions etc. on face, back, and chest, which can be painful.',\n",
              "   'entities': [(31, 43, 'COMPONENT'), (0, 21, 'NAME')]},\n",
              "  {'text': 'ACCUFINE 5MG CAPSULE contains Isotretinoin which belongs to the group of medicines called Retinoids. It is used in adults and children (older than 12 years of age) to treat severe form of acne (such as nodular acne, conglobate acne, and acne that is at risk of permanent scarring), which has not improved after other anti-acne treatments. Acne is an inflammatory skin condition which is characterized by spots, oily skin, nodular lesions etc. on face, back, and chest, which can be painful.',\n",
              "   'entities': [(0, 20, 'NAME'), (30, 42, 'COMPONENT')]},\n",
              "  {'text': 'ACNETOIN I 20MG CAPSULE contains Isotretinoin which belongs to the group of medicines called Retinoids. It is used in adults and children (older than 12 years of age) to treat severe form of acne (such as nodular acne, conglobate acne, and acne that is at risk of permanent scarring), which has not improved after other anti-acne treatments. Acne is an inflammatory skin condition which is characterized by spots, oily skin, nodular lesions etc. on face, back, and chest, which can be painful.',\n",
              "   'entities': [(33, 45, 'COMPONENT'), (0, 23, 'NAME')]},\n",
              "  {'text': 'ACTAME 10 SOFTGEL contains Isotretinoin which belongs to the group of medicines called Retinoids. It is used in adults and children (older than 12 years of age) to treat severe form of acne (such as nodular acne, conglobate acne, and acne that is at risk of permanent scarring), which has not improved after other anti-acne treatments. Acne is an inflammatory skin condition which is characterized by spots, oily skin, nodular lesions etc. on face, back, and chest, which can be painful.',\n",
              "   'entities': [(0, 17, 'NAME'), (27, 39, 'COMPONENT')]},\n",
              "  {'text': 'ACTAME 30 CAPSULE contains Isotretinoin which belongs to the group of medicines called Retinoids. It is used in adults and children (older than 12 years of age) to treat severe form of acne (such as nodular acne, conglobate acne, and acne that is at risk of permanent scarring), which has not improved after other anti-acne treatments. Acne is an inflammatory skin condition which is characterized by spots, oily skin, nodular lesions etc. on face, back, and chest, which can be painful.',\n",
              "   'entities': [(0, 17, 'NAME'), (27, 39, 'COMPONENT')]},\n",
              "  {'text': 'ACUTRET 10MG CAPSULE contains Isotretinoin which belongs to the group of medicines called Retinoids. It is used in adults and children (older than 12 years of age) to treat severe form of acne (such as nodular acne, conglobate acne, and acne that is at risk of permanent scarring), which has not improved after other anti-acne treatments. Acne is an inflammatory skin condition which is characterized by spots, oily skin, nodular lesions etc. on face, back, and chest, which can be painful.',\n",
              "   'entities': [(0, 20, 'NAME'), (30, 42, 'COMPONENT')]},\n",
              "  {'text': 'ACUTRET 20MG CAPSULE contains Isotretinoin which belongs to the group of medicines called Retinoids. It is used in adults and children (older than 12 years of age) to treat severe form of acne (such as nodular acne, conglobate acne, and acne that is at risk of permanent scarring), which has not improved after other anti-acne treatments. Acne is an inflammatory skin condition which is characterized by spots, oily skin, nodular lesions etc. on face, back, and chest, which can be painful.',\n",
              "   'entities': [(30, 42, 'COMPONENT'), (0, 20, 'NAME')]},\n",
              "  {'text': 'ACUTRET 30MG CAPSULE contains Isotretinoin which belongs to the group of medicines called Retinoids. It is used in adults and children (older than 12 years of age) to treat severe form of acne (such as nodular acne, conglobate acne, and acne that is at risk of permanent scarring), which has not improved after other anti-acne treatments. Acne is an inflammatory skin condition which is characterized by spots, oily skin, nodular lesions etc. on face, back, and chest, which can be painful.',\n",
              "   'entities': [(0, 20, 'NAME'), (30, 42, 'COMPONENT')]}]}"
            ]
          },
          "metadata": {},
          "execution_count": 35
        }
      ]
    },
    {
      "cell_type": "code",
      "source": [
        "text=[]\n",
        "entities=[]\n",
        "for i in testing_data['annotations']:\n",
        "  #print(i['text'])\n",
        "  text.append(i['text'])\n",
        "for i in testing_data['annotations']:\n",
        "  entities.append({'entities':i['entities']})\n"
      ],
      "metadata": {
        "id": "W3G70c628vnF"
      },
      "execution_count": null,
      "outputs": []
    },
    {
      "cell_type": "code",
      "source": [
        "\n",
        "predictions = []\n",
        "for i in text:\n",
        "    doc = nlp_ner(i)\n",
        "    entities_1 = [(ent.start_char,ent.end_char,ent.label_) for ent in doc.ents]\n",
        "    predictions.append({'entities':entities_1})\n",
        "\n",
        "# Create an evaluation function\n",
        "def evaluate(predictions, gold_annotations):\n",
        "    total_correct = 0\n",
        "    total_predictions = 0\n",
        "    total_gold = 0\n",
        "    for i, prediction in enumerate(predictions):\n",
        "        \n",
        "        gold = gold_annotations[i][\"entities\"]\n",
        "        correct = 0\n",
        "        for ent in prediction['entities']:\n",
        "            print(ent)\n",
        "            if ent in gold:\n",
        "                print(ent)\n",
        "                correct += 1\n",
        "        total_correct += correct\n",
        "        total_predictions += len(prediction)\n",
        "        total_gold += len(gold)\n",
        "        print(\"Gold_length\", len(gold))\n",
        "    precision = total_correct / total_predictions\n",
        "    recall = total_correct / total_gold\n",
        "    f1 = 2 * precision * recall / (precision + recall)\n",
        "    return {\"precision\": precision, \"recall\": recall, \"f1\": f1}\n",
        "\n",
        "# Evaluate the performance of the model\n",
        "results = evaluate(predictions, entities)\n"
      ],
      "metadata": {
        "colab": {
          "base_uri": "https://localhost:8080/"
        },
        "id": "3BtqfNeI-sqL",
        "outputId": "db4cb620-8957-4a06-c575-195387008088"
      },
      "execution_count": null,
      "outputs": [
        {
          "output_type": "stream",
          "name": "stdout",
          "text": [
            "(0, 21, 'NAME')\n",
            "(0, 21, 'NAME')\n",
            "(31, 43, 'COMPONENT')\n",
            "(31, 43, 'COMPONENT')\n",
            "Gold_length 2\n",
            "(0, 21, 'NAME')\n",
            "(0, 21, 'NAME')\n",
            "(31, 43, 'COMPONENT')\n",
            "(31, 43, 'COMPONENT')\n",
            "Gold_length 2\n",
            "(0, 21, 'NAME')\n",
            "(0, 21, 'NAME')\n",
            "(31, 43, 'COMPONENT')\n",
            "(31, 43, 'COMPONENT')\n",
            "Gold_length 2\n",
            "(0, 21, 'NAME')\n",
            "(0, 21, 'NAME')\n",
            "(31, 43, 'COMPONENT')\n",
            "(31, 43, 'COMPONENT')\n",
            "Gold_length 2\n",
            "(0, 20, 'NAME')\n",
            "(0, 20, 'NAME')\n",
            "(30, 42, 'COMPONENT')\n",
            "(30, 42, 'COMPONENT')\n",
            "Gold_length 2\n",
            "(0, 23, 'NAME')\n",
            "(0, 23, 'NAME')\n",
            "(33, 45, 'COMPONENT')\n",
            "(33, 45, 'COMPONENT')\n",
            "Gold_length 2\n",
            "(0, 26, 'NAME')\n",
            "(27, 39, 'COMPONENT')\n",
            "(27, 39, 'COMPONENT')\n",
            "Gold_length 2\n",
            "(0, 17, 'NAME')\n",
            "(0, 17, 'NAME')\n",
            "(27, 39, 'COMPONENT')\n",
            "(27, 39, 'COMPONENT')\n",
            "Gold_length 2\n",
            "(0, 20, 'NAME')\n",
            "(0, 20, 'NAME')\n",
            "(30, 42, 'COMPONENT')\n",
            "(30, 42, 'COMPONENT')\n",
            "Gold_length 2\n",
            "(0, 20, 'NAME')\n",
            "(0, 20, 'NAME')\n",
            "(30, 42, 'COMPONENT')\n",
            "(30, 42, 'COMPONENT')\n",
            "Gold_length 2\n",
            "(0, 20, 'NAME')\n",
            "(0, 20, 'NAME')\n",
            "(30, 42, 'COMPONENT')\n",
            "(30, 42, 'COMPONENT')\n",
            "Gold_length 2\n"
          ]
        }
      ]
    },
    {
      "cell_type": "code",
      "source": [
        "results"
      ],
      "metadata": {
        "colab": {
          "base_uri": "https://localhost:8080/"
        },
        "id": "wo7Rcs3qCQEk",
        "outputId": "c8abce75-7ae0-4754-b6f5-e5131d7a02ca"
      },
      "execution_count": null,
      "outputs": [
        {
          "output_type": "execute_result",
          "data": {
            "text/plain": [
              "{'precision': 1.9090909090909092,\n",
              " 'recall': 0.9545454545454546,\n",
              " 'f1': 1.272727272727273}"
            ]
          },
          "metadata": {},
          "execution_count": 80
        }
      ]
    },
    {
      "cell_type": "code",
      "source": [
        "predictions"
      ],
      "metadata": {
        "colab": {
          "base_uri": "https://localhost:8080/"
        },
        "id": "rPkqJPhUCTmG",
        "outputId": "e7bbb6d4-a002-4d27-9ac1-852034a1e4c0"
      },
      "execution_count": null,
      "outputs": [
        {
          "output_type": "execute_result",
          "data": {
            "text/plain": [
              "[{'entities': [(0, 21, 'NAME'), (31, 43, 'COMPONENT')]},\n",
              " {'entities': [(0, 21, 'NAME'), (31, 43, 'COMPONENT')]},\n",
              " {'entities': [(0, 21, 'NAME'), (31, 43, 'COMPONENT')]},\n",
              " {'entities': [(0, 21, 'NAME'), (31, 43, 'COMPONENT')]},\n",
              " {'entities': [(0, 20, 'NAME'), (30, 42, 'COMPONENT')]},\n",
              " {'entities': [(0, 23, 'NAME'), (33, 45, 'COMPONENT')]},\n",
              " {'entities': [(0, 26, 'NAME'), (27, 39, 'COMPONENT')]},\n",
              " {'entities': [(0, 17, 'NAME'), (27, 39, 'COMPONENT')]},\n",
              " {'entities': [(0, 20, 'NAME'), (30, 42, 'COMPONENT')]},\n",
              " {'entities': [(0, 20, 'NAME'), (30, 42, 'COMPONENT')]},\n",
              " {'entities': [(0, 20, 'NAME'), (30, 42, 'COMPONENT')]}]"
            ]
          },
          "metadata": {},
          "execution_count": 70
        }
      ]
    },
    {
      "cell_type": "code",
      "source": [
        "print(entities)"
      ],
      "metadata": {
        "colab": {
          "base_uri": "https://localhost:8080/"
        },
        "id": "zmFEU7gjBPCm",
        "outputId": "bc19eafe-d521-487d-dd8e-e78f1f8263be"
      },
      "execution_count": null,
      "outputs": [
        {
          "output_type": "stream",
          "name": "stdout",
          "text": [
            "[{'entities': [(31, 43, 'COMPONENT'), (0, 21, 'NAME')]}, {'entities': [(31, 43, 'COMPONENT'), (0, 21, 'NAME')]}, {'entities': [(0, 21, 'NAME'), (31, 43, 'COMPONENT')]}, {'entities': [(31, 43, 'COMPONENT'), (0, 21, 'NAME')]}, {'entities': [(0, 20, 'NAME'), (30, 42, 'COMPONENT')]}, {'entities': [(33, 45, 'COMPONENT'), (0, 23, 'NAME')]}, {'entities': [(0, 17, 'NAME'), (27, 39, 'COMPONENT')]}, {'entities': [(0, 17, 'NAME'), (27, 39, 'COMPONENT')]}, {'entities': [(0, 20, 'NAME'), (30, 42, 'COMPONENT')]}, {'entities': [(30, 42, 'COMPONENT'), (0, 20, 'NAME')]}, {'entities': [(0, 20, 'NAME'), (30, 42, 'COMPONENT')]}]\n"
          ]
        }
      ]
    },
    {
      "cell_type": "code",
      "source": [
        "for i, prediction in enumerate(predictions):\n",
        "  print(i,prediction)"
      ],
      "metadata": {
        "colab": {
          "base_uri": "https://localhost:8080/"
        },
        "id": "dfNT-jprBJV3",
        "outputId": "bc264c2f-9efd-4762-b425-d1de7b5ee82a"
      },
      "execution_count": null,
      "outputs": [
        {
          "output_type": "stream",
          "name": "stdout",
          "text": [
            "0 {'entities': [('ACCUFINE 10MG CAPSULE', 'NAME'), ('Isotretinoin', 'COMPONENT')]}\n",
            "1 {'entities': [('ACCUFINE 20MG CAPSULE', 'NAME'), ('Isotretinoin', 'COMPONENT')]}\n",
            "2 {'entities': [('ACCUFINE 30MG CAPSULE', 'NAME'), ('Isotretinoin', 'COMPONENT')]}\n",
            "3 {'entities': [('ACCUFINE 40MG CAPSULE', 'NAME'), ('Isotretinoin', 'COMPONENT')]}\n",
            "4 {'entities': [('ACCUFINE 5MG CAPSULE', 'NAME'), ('Isotretinoin', 'COMPONENT')]}\n",
            "5 {'entities': [('ACNETOIN I 20MG CAPSULE', 'NAME'), ('Isotretinoin', 'COMPONENT')]}\n",
            "6 {'entities': [('ACTAME 10 SOFTGEL contains', 'NAME'), ('Isotretinoin', 'COMPONENT')]}\n",
            "7 {'entities': [('ACTAME 30 CAPSULE', 'NAME'), ('Isotretinoin', 'COMPONENT')]}\n",
            "8 {'entities': [('ACUTRET 10MG CAPSULE', 'NAME'), ('Isotretinoin', 'COMPONENT')]}\n",
            "9 {'entities': [('ACUTRET 20MG CAPSULE', 'NAME'), ('Isotretinoin', 'COMPONENT')]}\n",
            "10 {'entities': [('ACUTRET 30MG CAPSULE', 'NAME'), ('Isotretinoin', 'COMPONENT')]}\n"
          ]
        }
      ]
    }
  ]
}
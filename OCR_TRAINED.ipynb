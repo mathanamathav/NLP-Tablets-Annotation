{
  "nbformat": 4,
  "nbformat_minor": 0,
  "metadata": {
    "colab": {
      "provenance": [],
      "mount_file_id": "1qPnaz4mZPCnnhPFhzHLScD5Vm8iyt8Ke",
      "authorship_tag": "ABX9TyPSKkkZhYO7FGCy8wtaHNMC",
      "include_colab_link": true
    },
    "kernelspec": {
      "name": "python3",
      "display_name": "Python 3"
    },
    "language_info": {
      "name": "python"
    },
    "accelerator": "GPU",
    "gpuClass": "standard"
  },
  "cells": [
    {
      "cell_type": "markdown",
      "metadata": {
        "id": "view-in-github",
        "colab_type": "text"
      },
      "source": [
        "<a href=\"https://colab.research.google.com/github/jegadeesh2001/NLP-Tablets-Annotation/blob/main/OCR_TRAINED.ipynb\" target=\"_parent\"><img src=\"https://colab.research.google.com/assets/colab-badge.svg\" alt=\"Open In Colab\"/></a>"
      ]
    },
    {
      "cell_type": "code",
      "execution_count": null,
      "metadata": {
        "colab": {
          "base_uri": "https://localhost:8080/"
        },
        "outputId": "99f8b4cc-52d3-441f-d396-7d924fa2d01f",
        "id": "biyWWtLPvdD4"
      },
      "outputs": [
        {
          "output_type": "stream",
          "name": "stdout",
          "text": [
            "{'content': \"vsasnesciencostintet Amingaon.Norh Guwahati CautonI is dangerous to take ths preparabon exoept under Medical Supervision. WARNINGTo be sold by on t prescription of a Regislered Medical Caution  is dangeroos to take this KEEPTHEMEDICINCOUTOFREACH OF CHILDREN Composition: Each uncoatea tablel.contain Metformin Hyctochlonde IP Gliclazide IP Exciplents ColourLake Quinaine Yellow Dosage: As directed by the Physician Storage:Store between 10C to 25C at dry&dark place KEEPTHE MEDICINEOUTOF REACH OF CHILDREN Y Composition Gliclazide Metformin Hydrochloride Tablets CybexM40 Gliclazide Metformin Hydrochloride Tablets CyblexM40  40 0 CyblexM 500g 40mg SCHEDULE'H'DRUG q.s Practisoner oniy Amingaon.Norh Guwahati Dist.Kamrup-781031(Assam) Vig.Lic.No.377/DRMg/2014 Manufactured by SLifesciences Limited Amingaon.North Guwahati Dist.Kamrup-781031(Assam Caution  is dangeroos to take this\", 'seen_by': [{'annotator': '19pd15@psgtech.ac.in', 'annotator_id': 1}], 'comments': [], 'metadata': {'': 31, 'link': 'https://www.netmeds.com/images/product-v1/600x600/412531/cyblex_m_40mg_tablet_15_s_3.jpg'}, 'example_id': 'dbbf29a5-d9dc-40a4-924e-3352e9dea162', 'annotations': [{'end': 571, 'tag': 'NAME', 'start': 520, 'value': 'Gliclazide Metformin Hydrochloride Tablets CybexM40', 'tag_id': 'b61f9f74-97dc-4643-914a-121efc28645a', 'correct': None, 'reviewed': False, 'example_id': 'dbbf29a5-d9dc-40a4-924e-3352e9dea162', 'annotated_by': [{'annotator': '19pd15@psgtech.ac.in', 'timestamp': '2023-02-12T15:03:48.646+00:00', 'annotator_id': 1}], 'definition_id': '98d71163-ba88-424b-b553-e224b6792d15', 'tagged_token_id': 'de841ae6-24b4-4d2f-ba27-5f26a59fbddb'}, {'end': 350, 'tag': 'COMPONENT', 'start': 340, 'value': 'Exciplents', 'tag_id': '00810b2d-2f10-4a4f-b2bf-b6f4707e0381', 'correct': None, 'reviewed': False, 'example_id': 'dbbf29a5-d9dc-40a4-924e-3352e9dea162', 'annotated_by': [{'annotator': '19pd15@psgtech.ac.in', 'timestamp': '2023-02-12T15:02:33.367+00:00', 'annotator_id': 1}], 'definition_id': '98d71163-ba88-424b-b553-e224b6792d15', 'tagged_token_id': '11fd53e4-02f3-4328-af33-90b8c4034bdd'}, {'end': 325, 'tag': 'COMPONENT', 'start': 300, 'value': 'Metformin Hyctochlonde IP', 'tag_id': '00810b2d-2f10-4a4f-b2bf-b6f4707e0381', 'correct': None, 'reviewed': False, 'example_id': 'dbbf29a5-d9dc-40a4-924e-3352e9dea162', 'annotated_by': [{'annotator': '19pd15@psgtech.ac.in', 'timestamp': '2023-02-12T15:02:27.963+00:00', 'annotator_id': 1}], 'definition_id': '98d71163-ba88-424b-b553-e224b6792d15', 'tagged_token_id': 'c78b6f3e-7d8e-4361-ab67-9a529e5a33a1'}, {'end': 339, 'tag': 'COMPONENT', 'start': 326, 'value': 'Gliclazide IP', 'tag_id': '00810b2d-2f10-4a4f-b2bf-b6f4707e0381', 'correct': None, 'reviewed': False, 'example_id': 'dbbf29a5-d9dc-40a4-924e-3352e9dea162', 'annotated_by': [{'annotator': '19pd15@psgtech.ac.in', 'timestamp': '2023-02-12T15:02:30.135+00:00', 'annotator_id': 1}], 'definition_id': '98d71163-ba88-424b-b553-e224b6792d15', 'tagged_token_id': 'b6f6c9cd-3c60-4be4-aae2-2365658dfb4c'}, {'end': 624, 'tag': 'NAME', 'start': 615, 'value': 'CyblexM40', 'tag_id': 'b61f9f74-97dc-4643-914a-121efc28645a', 'correct': None, 'reviewed': False, 'example_id': 'dbbf29a5-d9dc-40a4-924e-3352e9dea162', 'annotated_by': [{'annotator': '19pd15@psgtech.ac.in', 'timestamp': '2023-02-12T15:04:01.3+00:00', 'annotator_id': 1}], 'definition_id': '98d71163-ba88-424b-b553-e224b6792d15', 'tagged_token_id': '1eb98916-c7d2-4afe-8cb2-2ab8338ebdfc'}], 'classifications': []}\n"
          ]
        }
      ],
      "source": [
        "import json\n",
        " \n",
        "with open('/content/ocr_data_annotations.json', 'r') as f:\n",
        "    data = json.load(f)\n",
        "    \n",
        "print(data['examples'][0])"
      ]
    },
    {
      "cell_type": "code",
      "execution_count": null,
      "metadata": {
        "colab": {
          "base_uri": "https://localhost:8080/"
        },
        "outputId": "bc48de76-4380-40c6-e0a8-16f3f2e61c26",
        "id": "772aB9QavdD5"
      },
      "outputs": [
        {
          "output_type": "stream",
          "name": "stdout",
          "text": [
            "{'text': \"vsasnesciencostintet Amingaon.Norh Guwahati CautonI is dangerous to take ths preparabon exoept under Medical Supervision. WARNINGTo be sold by on t prescription of a Regislered Medical Caution  is dangeroos to take this KEEPTHEMEDICINCOUTOFREACH OF CHILDREN Composition: Each uncoatea tablel.contain Metformin Hyctochlonde IP Gliclazide IP Exciplents ColourLake Quinaine Yellow Dosage: As directed by the Physician Storage:Store between 10C to 25C at dry&dark place KEEPTHE MEDICINEOUTOF REACH OF CHILDREN Y Composition Gliclazide Metformin Hydrochloride Tablets CybexM40 Gliclazide Metformin Hydrochloride Tablets CyblexM40  40 0 CyblexM 500g 40mg SCHEDULE'H'DRUG q.s Practisoner oniy Amingaon.Norh Guwahati Dist.Kamrup-781031(Assam) Vig.Lic.No.377/DRMg/2014 Manufactured by SLifesciences Limited Amingaon.North Guwahati Dist.Kamrup-781031(Assam Caution  is dangeroos to take this\", 'entities': [(520, 571, 'NAME'), (340, 350, 'COMPONENT'), (300, 325, 'COMPONENT'), (326, 339, 'COMPONENT'), (615, 624, 'NAME')]}\n"
          ]
        }
      ],
      "source": [
        "training_data = {'classes' : [\"Name\", \"Components\",\"Manufacturer\"], 'annotations' : []}\n",
        "for example in data['examples']:\n",
        "  temp_dict = {}\n",
        "  temp_dict['text'] = example['content']\n",
        "  temp_dict['entities'] = []\n",
        "  for annotation in example['annotations']:\n",
        "    start = annotation['start']\n",
        "    end = annotation['end']\n",
        "    label = annotation['tag'].upper()\n",
        "    temp_dict['entities'].append((start, end, label))\n",
        "  training_data['annotations'].append(temp_dict)\n",
        "  \n",
        "print(training_data['annotations'][0])"
      ]
    },
    {
      "cell_type": "code",
      "source": [
        "training_data"
      ],
      "metadata": {
        "colab": {
          "base_uri": "https://localhost:8080/"
        },
        "id": "Ce-4bZnPRZ_j",
        "outputId": "c7291ffb-f94d-46fb-e150-08f9871d2e1e"
      },
      "execution_count": null,
      "outputs": [
        {
          "output_type": "execute_result",
          "data": {
            "text/plain": [
              "{'classes': ['Name', 'Components', 'Manufacturer'],\n",
              " 'annotations': [{'text': \"vsasnesciencostintet Amingaon.Norh Guwahati CautonI is dangerous to take ths preparabon exoept under Medical Supervision. WARNINGTo be sold by on t prescription of a Regislered Medical Caution  is dangeroos to take this KEEPTHEMEDICINCOUTOFREACH OF CHILDREN Composition: Each uncoatea tablel.contain Metformin Hyctochlonde IP Gliclazide IP Exciplents ColourLake Quinaine Yellow Dosage: As directed by the Physician Storage:Store between 10C to 25C at dry&dark place KEEPTHE MEDICINEOUTOF REACH OF CHILDREN Y Composition Gliclazide Metformin Hydrochloride Tablets CybexM40 Gliclazide Metformin Hydrochloride Tablets CyblexM40  40 0 CyblexM 500g 40mg SCHEDULE'H'DRUG q.s Practisoner oniy Amingaon.Norh Guwahati Dist.Kamrup-781031(Assam) Vig.Lic.No.377/DRMg/2014 Manufactured by SLifesciences Limited Amingaon.North Guwahati Dist.Kamrup-781031(Assam Caution  is dangeroos to take this\",\n",
              "   'entities': [(520, 571, 'NAME'),\n",
              "    (340, 350, 'COMPONENT'),\n",
              "    (300, 325, 'COMPONENT'),\n",
              "    (326, 339, 'COMPONENT'),\n",
              "    (615, 624, 'NAME')]},\n",
              "  {'text': 'MofiletS360 Composition: Each gastro-resistant tablet contains Mycophenolate Sodium USP Equiyalent to Mycophenolic Acid Excipients ColourTitanium Dioxido IP Dosage As oirected by the Physician Store protected from molsture. at a temperature not excocding 30C Tablet shoud be swallowed whole & not to be broken.crushed or chewed Keep out ol reach of children SCHEDULE H DRUG Warning  To be sold by rotail on the prescription of a Recistered Medicol Practitioner(Specialistsonly Mg.LicNo.JK101/08-09/155 Manufacturedby Emcure PHARMACEUTICALS LTD Lane No.3.Phaso-II SIDCO.Bati-Brahmana Jammu-181133.1ndia  Registered Trade Mark Ownets 360mg q.s.',\n",
              "   'entities': [(102, 119, 'COMPONENT'),\n",
              "    (63, 87, 'COMPONENT'),\n",
              "    (120, 130, 'COMPONENT'),\n",
              "    (517, 543, 'MANUFACTURER'),\n",
              "    (0, 11, 'NAME')]},\n",
              "  {'text': 'Gliclazide 30 ma SR and Metformin Hydrochloride 500 mg SR tablets CarrylM30.(SR Each Uncoated Bilayered Sustain Rolease Tablot Contains Gliclazide IP Metformin Hydrochloride IP...500 mg Excipients ColourRed Oxide of Iron and Store in a cool,dry & dark place DosageAs dirocted by the physician Keep Medicine out of reach of children Mfg.Lic.No.:G/25/2400 Mfg.&Mkt.By: 4Care Lifescience Pvt.Ltd Survey No.23/3/P & 24 Vil.:Bagdol.Tal.Kathalal Dist.:Kheda-387630.Gujarat 4C218 care 9.3 Sunset Yellow FCF CanylM30(SR) CarryleM30(SR) CayM30(SR',\n",
              "   'entities': [(0, 13, 'NAME'),\n",
              "    (186, 196, 'COMPONENT'),\n",
              "    (136, 149, 'COMPONENT'),\n",
              "    (367, 392, 'MANUFACTURER'),\n",
              "    (150, 185, 'COMPONENT')]},\n",
              "  {'text': \"Memantine Hydrochloride IP...5 mg Donepezil Hydrochioride IP...5 mg Excipients. ColourFerric Oxide Red USP-NF (Red Oxide of Iron) Dosage: As directed by the Physician SCHEOULE H PRESCRIPTION DRUG-CAUTION Not lo ba sold by relail without ne prescripton C a Read Medical Pracitoner. Store below 25'C. protected from light&moisture Made in India by: ALKEM HEALTH SCIENCE A Unit of Alkem Laboralones Limited.Unil-2 Samardung.Karek Block P.O.:Namthang.South Sikkim -737 137 Marketed by: ALKEM ALKEM LABORATORIES LTD ALKEM HOUSE.Senapati Bapat Marg Lower Parel.Mumbai-400013 -Registered Trade Mark please reach us at -contactalkem.com Memantine Hvdrochloride 5 mg Ano Donepezil Hydrochloride 5mg Tablets Donep-M' Each film-coated tablet contains: Memantine Hydrochloride IP...5 mg Donepezil Hydrochloride IP....5 mg Excipients. ColourFerric Oxide Red USP-NF (Red Oxide of Iron) Dosage:As directed by the Physician SCHEDULE H PRESORIPTION DRUG-CAUTION of a Reglotred Medical Practioner Store below 25'C, protected from light &moisture Made in India by. ...q.s ..q.s PF26363\",\n",
              "   'entities': [(68, 78, 'COMPONENT'),\n",
              "    (0, 33, 'COMPONENT'),\n",
              "    (662, 689, 'COMPONENT'),\n",
              "    (488, 506, 'MANUFACTURER'),\n",
              "    (698, 705, 'NAME'),\n",
              "    (810, 820, 'COMPONENT'),\n",
              "    (34, 67, 'COMPONENT')]},\n",
              "  {'text': 'Pnarcid-osR Rabeprazole Sodium (EC) & Domperidone (SR) Capsules Pharcid-DSR Storage:Store in a cool.dry and dark place.Protect from sunlight Keep the medicine out of reach of children Mfg.Lic.No.G/25/2280 1711,Gurukrupa Estate.Asal.Ta Dskroi Dist.Ahmedabad.(Guj) Manactd 8ySKYLINK PHARMA Survey Na413,ndrd,N.Miachi Ch Kc Rd Dt Me-215.Gt I Storage :Store in a cool, dry and dark place.Protect from sunlight of chiidren. SCHEDULE H PRESCRIPTION DRI EH PRESCRIPTION DRUG-CAUTION Not to be sold by retaiwithout the e sold by retail without the prescription of a Registered Meial Prac Registered Medical Practitioner - Pharcid-DSRPha Pharcid-DSR Each hard Gelatin Capsue contains: Rabeprazole SodiumP As Enteric Coated Pellats Domperidone IP As sustained Release pellets) Excipients Approved Colours usec in empty capsules shells &pellets Dosage: As directed by the Physician Each hard Gelatin Capsule contains: Rabeprazole Sodium IP As Enteric Coated Pellets Domperidone IP (As sustained Release pellets Do not chew cr crush the capsules, crush the capsules, 20mg. 30mg. 20mg 30mg. It should be swallowed whole opwo Marketed by: PHARMA-TECHINDIA Marketed by: PHARMA-TECH INDIA q.s. R',\n",
              "   'entities': [(767, 777, 'COMPONENT'),\n",
              "    (0, 7, 'NAME'),\n",
              "    (676, 695, 'COMPONENT'),\n",
              "    (722, 736, 'COMPONENT'),\n",
              "    (273, 287, 'MANUFACTURER')]},\n",
              "  {'text': 'Each unooated tablet contains: Vildagliptin Excipients Dosage:As directed by the Physician. Storage :Store in a cool.dry and dark place.Protected from light and moisture Kocpthemedicine outof rsacn ot children. ProonaRed LNo07132014 UanachryGoodnanPhmovals WO GPn01-015CeComn PN-B8.PIPOIC TaaiPuchmy-05107 Vildagliptin Tablets 50mg Adiwill Each uncoated tablet contains: Vildagliptin Excioienis Dosage As directed by the Physician. Storage:Store in a cool,dry and dark place.Protected from light and moisture Keep the medicine out of reach of children. 50 mg 50mg Q.S q.s Adiwill Adiwil Adiwills Adiwill Adiwill Adiwill Adiwill diwil arxtod by Adisys HEALTHCARE o.1472.1mn3 cro5  TbockJyg Bargaloro-560011 ProonaRed Adisys Vildagliptin Tablets 50mg',\n",
              "   'entities': [(306, 339, 'NAME'),\n",
              "    (31, 43, 'COMPONENT'),\n",
              "    (644, 661, 'MANUFACTURER'),\n",
              "    (572, 579, 'NAME'),\n",
              "    (580, 586, 'NAME'),\n",
              "    (44, 54, 'COMPONENT')]},\n",
              "  {'text': 'Memantrne HydrochlorideTabletsUSP Admenta10 each film coated tablet contains: excipients colourbiack oxide of iron dosage:as directed by the neurologist store at room temperature protected fromlighi andimoisture Admenta10Admenta10Admenta10 warnino:to be sold by retail on the prescription of a neurologist only Registered Trade Mark inanutactured in india by sun pharma laboratories itd plot no.107-108 namli block.p.o.ranipool east-sikkim-737135 q.s.',\n",
              "   'entities': [(359, 382, 'MANUFACTURER'),\n",
              "    (78, 88, 'COMPONENT'),\n",
              "    (34, 43, 'NAME')]},\n",
              "  {'text': \"Composition: Each film coated tablet contains: Memantine Hydrochloride IP Excipients ColorTartrazine and Titanium Dioxide IP Dosage:As directed by the Neurologist/ Physician. Storage:Store protected from light and moisture,at a tomperature not exceeding 30'C. Keep out of reach of children WARNING To be sold by retail on the 5mg prescription ofa q.s. Registered Medical Practitioner only Manufactured by: Stanford Laboratories Pvt.Ltd. (AWHO-GMP &ISO9001Certified Co.) 8.industrialArea.Mehatpur Distt.Una,H.P-174315 India.\",\n",
              "   'entities': [(47, 73, 'COMPONENT'),\n",
              "    (74, 84, 'COMPONENT'),\n",
              "    (406, 435, 'MANUFACTURER')]},\n",
              "  {'text': 'Citicoline sodium IPequivalent to Citicoline Colour:TitaniumDioxide IP Excipients: DoseAs directed by the Neurologist. Store in a cool& dry place Protect from light. Keep out of reach of children CITICOLINE TABLETS 500mg STORAX-500 Each film coated tablet contains Citicoline sodiumIP equivalent to Citicoline ColourTitanium Dioxide IP Excipients: DoseAs directed by the Neurologist Store in a cool & dnyplace Mfg.LIc.No.15/UA2006 Manufactured by: INTAS PHARMACEUTICALSLTD. Selaqui.Dehradun-248197.INDIA 80 446 0 8609468 WarningTo be sold by of a Neurologist oniy Mfg.Lic.No.15/UA/2006 Manufactured by INTAS DHARMACFIITICAISLTD H STORAX-500 TORAX-500 500 mg 500mg Q.S. Q.S. INTAS',\n",
              "   'entities': [(71, 81, 'COMPONENT'),\n",
              "    (336, 346, 'COMPONENT'),\n",
              "    (630, 640, 'NAME'),\n",
              "    (448, 472, 'MANUFACTURER'),\n",
              "    (0, 17, 'COMPONENT'),\n",
              "    (221, 231, 'NAME')]},\n",
              "  {'text': 'Peracit Composition Each film coated tablet contains Citicoline Sodium eq.to Citicoline Piracetam Excipients Colour:Titanium Dioxide IP Dosage:As directed by the Physician Keep medicine out of reach of children Improper storage may deteriorate the product Mfg.Lic.No.:NL-MNB/2016/192 Batch No.: Mfg.Date: Exp.Date M.R.P.: Per 10 Tablets Incl.of all taxes Marketed By: USR USRREMEDIES An ISO 9001:2015 Certified Company) 43.Skyline Inira Hub.B/h Intas Pharma Matoda Patia,Changodar,Taluka:Sanand District:Ahmedabad-382220 E-Mailusrremediesgmail.com Websitewww.usrremecies.com Trademark Under Registration Mfd.bySymbiosis Pharmaceuticals PVt.Lid.Plant-3 En ISO9001:2003&WHO GMP Compliant Co. Plant at :Tiokpur Road,Kala Amb-173030H.P Corp.Office:Suketi Road,Kala Amb-173030H.P IP IP 500mg 800 mg A ins q.s. Storage:Store in a cool,dry & dark place below 25C.Protect from light,heat & moisture SCHEDULE H PRESCRIPTION DRUG-CAUTION Not to be sold by retail without the prescription of a Registered Medicai Practitioner',\n",
              "   'entities': [(98, 108, 'COMPONENT'),\n",
              "    (610, 643, 'MANUFACTURER'),\n",
              "    (53, 70, 'COMPONENT'),\n",
              "    (0, 7, 'NAME')]},\n",
              "  {'text': \"2X7 Tablets JEMANTINEHYDROCHLORIDETABLETS I.P.10MG Warning : To be sold by retall on the prescription of a Registered Medical Practitioner only Ebixa10 mg Composition: Each film coated tablet contains: Memantine hydrochloride1.P.10mg equivalent to 8.31mg Memantine). DosageAs directed by the Physician. Do not store above 30'C. Mfg.Lic.No.KTK/25A/582/2005 Warning : To be sold by retall on the prescription of a Registered Medical Practitioner only Batch No. Mfg.Date Exp.Date M.R.P.Rs. lnc of T 7ab ..\",\n",
              "   'entities': [(144, 154, 'NAME'), (202, 233, 'COMPONENT')]},\n",
              "  {'text': 'IN0CA5 Each film coated tablet contains: Obeticholic Acid. Excipients.. ColourTitanium Dioxide IP Dose:As directed by the Physician. Store below30C. Keep all medicine out of reach of children. OBETICHOLICACID TABLETS 5Mg INOCA5 Each film coated tablet contains: Obeticholic Acid Excipients GolourTitanium Dioxide IP M1g.Lic.No.27/UA2018 Manufactured by: SynokemPharmacouticals Lid PlotNo.56-57.Seclor-6A i.I.E(SIDCUL).Ranipur(BHEL). Haridwar-249403(Uttarakhand Marketed by: INTASPHADMAGEUTCALSLTD Matoda-332210.Dist.:Ahm6dabad.INCIK WABNNCTCLAOOOVSOTOIN Mig.Lic.No.:27/UA/2013 Manufactured by: Synokem Pharmaceuticals Ltd. Plot No.56-57.Soctor-8A. I.I.E(SIDCUL).Ranipur(BHEL). Haridwar-249403(Unarakhanc SPINO5SF01 SPINO5SF01 5mg 5mg q.s. q.s. INOCA3 SVIND INTASPHADMAGEUTCALSLTD WABNNCTCLAOOOVSOTOIN rciptionofGanroatorologlat apatologlst.',\n",
              "   'entities': [(0, 6, 'NAME'),\n",
              "    (41, 57, 'COMPONENT'),\n",
              "    (279, 289, 'COMPONENT'),\n",
              "    (59, 69, 'COMPONENT'),\n",
              "    (594, 621, 'MANUFACTURER')]},\n",
              "  {'text': \"Aknerzi5 ach film Ctedtablet contains Doneoezil Hydrochloride I.P 5 mg Excipients ColourBnillian Blue Lake Dosaoe: s directe  the Pnysicin StoraocStore protected trommoisturezt temperature no:exceeding25'c Keep out oftsachof children Almerzii-5 Mo.L No.12A2010 SCHEOLSK PNHANDRUOCAUTION Manutned Dy EASTWESTRHARMA UNDATRAUAYENNXEO ISONGCC No.Ro BhrweneuHoreoEKnr U-2470 Q.S. Aimerzies Altnerzil-5 Almerzil-5 Donepezil Hydrochioride Tablets1P5 mg\",\n",
              "   'entities': [(408, 445, 'NAME'),\n",
              "    (38, 65, 'COMPONENT'),\n",
              "    (299, 330, 'MANUFACTURER'),\n",
              "    (71, 81, 'COMPONENT'),\n",
              "    (0, 8, 'NAME'),\n",
              "    (397, 407, 'NAME')]},\n",
              "  {'text': \"cu.tociucoiir Excipients Colours:Lake Brilliant Blue.Lake Qulnoline Yeliow&Titanlum Dioxide IP Dosage:As directed by the Physlelan. Storage:Store in a cooldry place Protect from direct sunlight. Keep outof reach of children Mig.in lndia by: IOSIS REMEDIES PVT.LTD. (An 15O9001:2008Certified Co) Ralpura Road,Village-Khera Nihla Tehsil-Nalagarh,District-Solan HimachalPradesh-174101INDIA Geocetam-CT Geocetam-CT Each film coated tablet contalns: Piracetam IP Citicoline Sodium IP eq.to Citicoline Excipients.. Colours:Lake Briliant Blue,Lake Quinoline Yellow&Titanlum Dloxide IP Dosage:As directed by the Pinysiclan. Storage:Store in a cooldry place. Protectfrom airect sunlight Keep out of reach of children Mfgin india by IOSISREMEDIESPVT.LTD (An1509001:2008Certified Co) Raipura Road,Village-Kheca Nihla Tehsil-Nalagarh,Distrikct-Solan, SCNEDU Ntobesoobyciaiyhoutthepretncon 8904298112495> SOHIEDULE'HPRESCRIPTIONDRUOCAUTION Nottoba soldbyretawthout thhrescniptlor Geocetan Geocetam-CT otaPkteredMedicalPrecbcon NaReonteredMedicaiPrar Mfg.LIc.No.MNB/09/763&MB/09/764 Marketed by- INNOVATIVEPHARMACEUTICALSOVT.LTD Admn.Off:9,17th Floor Lodha Supremus,Opp.MTNLVLR SakiVhar Road.Powai.Mumbai-72 Regd.Off.Wadi-440023 Registered Trademark 8904298112495> Mfg.Lc.No.MN8/09/763&MB/09/764 Marketed by- INNOVATIVEPHARMACEUTICAISRVT.LTD Admn.Off:9.17th Floor Lodha Supremus,Opp.MTNLVLR SakiVihar Road,Powal,Mumbai-72 Regd.Off.:Wadi-440023  ReaisteredTrademark Geocetam-CT ..400mg .500mg Geocetam-CT RPiracetam and Citicoline Tablets ...0.\",\n",
              "   'entities': [(387, 398, 'NAME'),\n",
              "    (1478, 1489, 'NAME'),\n",
              "    (458, 478, 'COMPONENT'),\n",
              "    (496, 506, 'COMPONENT'),\n",
              "    (976, 987, 'NAME'),\n",
              "    (14, 24, 'COMPONENT'),\n",
              "    (445, 457, 'COMPONENT'),\n",
              "    (399, 410, 'NAME'),\n",
              "    (723, 743, 'MANUFACTURER'),\n",
              "    (1451, 1462, 'NAME')]},\n",
              "  {'text': \"Citist Citistar-PM Citistar-PM Citistar-PM Citistar-PM Citistar-PM AAINWTTIWAAWILLMIIWAAAHIA Citistar-pM Each fim coated tablet contains Citicoline Sodium IP Equivalent to Citicoline PiracetamIP Excipients ColourRed Oxide ot iron TitaniumDioxide IP Dosage As directed by the Neurologist Store below 30C in a dry & dark place KEEPALLMEDICINESOUTOFREACHOFCHILDREN Mfg.Lic.No.27/UA/LL/2015 WarningTo be sold by retail on the prescription To report product complaint or Adverse Drug reaction calToll Free no.1800-209-2505 Manufactured in India by Synokem Pharmaceuticals Ltd AtPltNo56-57Sect-6AE(SIDCUL) RanipurBHELHandwar-249403.Utarakhand Colinand Piaceam Tabl Citistar-pM Each film coated tablet contains Citicoline Sodium IP Equivalent to Citicoline Piracetam IP Excipients ColourRed Oxide of iron &Tifanium Dioxide IP DosageAs directed byihe Neurologist Ctora bolowan'Clnn.druRnhrknlac 10 Tablets 10 Tablets 500mg 400mg 500mg 400mg q.s. q.s. SCHEDULE HDRUG of a Registered Medical Practitioner only Marketed by LUPINLTD 159,C.S.T.Road.KalinaSantacruz E). Mumbai-400098.INDIA Citistar-PM -\",\n",
              "   'entities': [(137, 157, 'COMPONENT'),\n",
              "    (750, 762, 'COMPONENT'),\n",
              "    (543, 570, 'MANUFACTURER'),\n",
              "    (763, 773, 'COMPONENT'),\n",
              "    (704, 724, 'COMPONENT'),\n",
              "    (195, 205, 'COMPONENT'),\n",
              "    (7, 18, 'NAME')]},\n",
              "  {'text': 'Each film coated tablet contains Citicoline Sodium IF equivalent to Cil.coline250 mg Excipients Colour :Titanium Diexidep Dosage :As directea by the Physician qs',\n",
              "   'entities': [(85, 95, 'COMPONENT'),\n",
              "    (68, 84, 'COMPONENT'),\n",
              "    (33, 50, 'COMPONENT')]},\n",
              "  {'text': 'iviauiicsiuiii Tablets B.P Each entericcoatedtabiet coctains Omeprazoie Magnesium B.P Equivaient to Omeprazole 20 mg ColourRed Iron oxide DageA cted by h Phyin NorageSore i a cool,ryCark pase g Keep all medcoes out cf reach ci chidren SCHECELEH PRESCRPTON ORCA STATURE R Omeprazole Magnesium Tablets B.P. Each entenc coated tablet contains Omeprazoie Magnesium B.P Equivalent to Omeprazoie 20 mg CoiourRed Iron axode DogeAs reced by the Pyn StorageStoce in a cool ry dark piace Kee mres out Omigift-20 Omigift-20 Omigift-20 Omigift-20 Omigift-20 Omigift-20 Omigift-20 Omigift-20 Omigift-20 OTABLET',\n",
              "   'entities': [(61, 85, 'COMPONENT'),\n",
              "    (535, 545, 'NAME'),\n",
              "    (100, 116, 'COMPONENT')]},\n",
              "  {'text': 'neiinneos', 'entities': []},\n",
              "  {'text': \"Sioceina cool& dryplace Keep allmedicines out of teach ol children ALZILSR 23 Rx DONEPEZILHYDROCHLORIDE SUSTAINED RELEASE TARLETS 23 mg DooopezRHydrochlorideIP23.mg Dose:As directed by the Physician. Keep all medicines out of reach of children OIGTMNCNOEICACETADICTCOOMA Elaa.South Sikkim-737132NDIA 9210209400002 Tablet tc bo swallowed as a whole and not to be chewed or crushed MigLcNoM717/2016 Manufactured by INTAS PHARMACEUTICALSLTD Samadung Road,Kabrey Block.Namthang Elaka.South Sikkm-737132.INDIA 9210209400002 AUZISRZT ALZILSR23 SCHEDULE'H'DRUG: WarningTo be sold by retail on the prription of a Nourologist only. SCHEDULE'HDRUG WarningTo be sold by retail on the orescription of a Neuroloaist Rx DONEPEZILHYDROCHLORIDE SUSTAINED RELEASE TARLETS 23 mg ALZILSR23 Each fm coatedsustained release tablei oontans DooopezRHydrochlorideIP23.mg CoiourTitanum DioxidoIP ExclplentsQS Dose:As directed by the Physician. Store in a cool &dry place Keep all medicines out of reach of children ALZIL-SR 23 RX DONEPEZILHYDROCHLORIDE OIGTMNCNOEICACETADICTCOOMA CNOAS gene-onR -\",\n",
              "   'entities': [(136, 164, 'COMPONENT'),\n",
              "    (413, 437, 'MANUFACTURER'),\n",
              "    (818, 846, 'COMPONENT'),\n",
              "    (761, 770, 'NAME'),\n",
              "    (528, 537, 'NAME'),\n",
              "    (990, 1001, 'NAME')]},\n",
              "  {'text': 'R 10Tablets SCHEDULEHPGESCRIPTION DRUG-CAUTION Not to be sold bireail without the prescription otRegistered Medical Practitionen Trdemark Owned by Ea CoL Tokyo Japan Vanufacturedand Marketed ty: Eisai Pharmaosuticals lndia Privnte Limited Piotno.95.97.98124126 Ramky Pharma CitySEZ} Parawada-531019,Visakhapatnam District. Andhra Pradesh,Incia Code No.:1000022459 oneee aes10 Aricep10 Composition Ec m coted tablet contains DonepezilRydroohiorideLP10mg Excipients s. ColourIron Oxiae Yelow and Titanium Dioxxe Dosage:As direciod by the Physician Storage:Store below 30C. Protect from molstre. Keep out of reach oi children, Aricep10Aricep10 Aricep10Aricep10 DRUG-CAUTION Not to be sold bireail without the prescription otRegistered Medical Practitionen Eisa Mfg.LicNo:0T/YP/AP/2016/F/CC/R',\n",
              "   'entities': [(453, 463, 'COMPONENT'),\n",
              "    (195, 238, 'MANUFACTURER'),\n",
              "    (376, 384, 'NAME'),\n",
              "    (424, 452, 'COMPONENT')]},\n",
              "  {'text': 'Px Donepezil Hydrochloride 5mg and Memantine Hydrocnloride 5mg Tablets Aricep-MM CompositionEach film coated tablet contains Donepezil Hydrochloride IP5mg Memantine Hydrochloride IP S mg Excipients....o.s ColorTitanium dioxide,ron oxide red FD&CYellow. DosageAs directed by the Physician Aricep-mM 10 Tablets Aricep-MM Caution:Keep out of reach of children StorageStore protected frommoisture at temperature not exceeding30C. SCHEDULE H PRESCRIPTION DRUG teeriptinof  Regitered Medical Prctitiner Manufactured by: Eisai Pharmaceuticals India Private Limited Plot Nos.96.97.98.124&126,Ramky Pharma City(SEZ).Parawada-S31019 Visakhapatnam Andhra PradeshIndia SCHEDULE H PRESCRIPTION DRUG CAUTION:Not to De sold byrelail without teeriptinof  Regitered Medical Prctitiner Manufactured by: Eisai Pharmaceuticals India Private Limited Plot Nos.96.97.98.124&126,Ramky Pharma City(SEZ).Parawada-S31019 Visakhapatnam Andhra PradeshIndia M.L.No.:07/VPIAP/2010/FICC Code No.1000019777 TM:Trademark of Eisai Aricep-m',\n",
              "   'entities': [(514, 535, 'MANUFACTURER'),\n",
              "    (155, 186, 'COMPONENT'),\n",
              "    (996, 1004, 'NAME'),\n",
              "    (187, 197, 'COMPONENT'),\n",
              "    (71, 80, 'NAME'),\n",
              "    (785, 806, 'MANUFACTURER'),\n",
              "    (3, 30, 'COMPONENT'),\n",
              "    (125, 154, 'COMPONENT'),\n",
              "    (35, 62, 'COMPONENT')]},\n",
              "  {'text': 'vosagens ureeu uy ue rnysician. Store in a cool,dry & dark place Keep out of reach of children. Rx Citicoline & Piracetam Tablets CILIPRAM 800 Composition: Each film coated tablet contains: Citicoline Sodium IP eq.to Citicoline Piracetam IP.. Excipients.... Colour Titanium Dioxide IP Dosage : As directed by the Physician Store in a cool, dry & dark place. Keep out of reach of children. 800CILIPRAM800CILIPRA CILIPRAM800 008 72Heo CoeE Sanh Naga HyderabadS00 018 HETEROHEALTHCARELIMITEO 7Hero CooruE Sanah Nag Hydeabd-500 018 800 SCHEDULEHPRESCROWOH RoistoredMcdo DRUG.OAUTION  odyowitus Mfg.Lic.No.68/UA2009 Maoufactured byMascot Heath Seres PV Lid (A WHO-GMP Cerifed Company) Plot No.79.80.SecAIIE.SidculHadwar-249403 Marketed by: .500 mg 800 mg q.S. Rx Composition: Each film coated tablet contains: Citicoline Sodium IP eq.to Citicoline Piracetam IP.. Excipients.... Colour Titanium Dioxide IP Dosage : As directed by the Physician Store in a cool, dry & dark place. Keep out of reach of children. Rx Citicoline & Piracetam Tablets',\n",
              "   'entities': [(228, 240, 'COMPONENT'),\n",
              "    (411, 422, 'NAME'),\n",
              "    (843, 855, 'COMPONENT'),\n",
              "    (805, 825, 'COMPONENT'),\n",
              "    (217, 240, 'COMPONENT'),\n",
              "    (243, 253, 'COMPONENT'),\n",
              "    (130, 142, 'NAME'),\n",
              "    (626, 651, 'MANUFACTURER'),\n",
              "    (858, 868, 'COMPONENT'),\n",
              "    (190, 210, 'COMPONENT')]},\n",
              "  {'text': 'Hicroliv Forte Metadoxine, Silymarin & L-Ornithine L-Aspartate Tablets Microliv Forte Metadoxine IP 500 mg Microliv Forto msera se Microliv Forte Microliv Forte Metadoxine, Silymarin & L-Ornithine L-Aspartate Tablets Microliv Forte Each film-coated to5lot contains Metadoxine IP 500 mg Silymarin140 mg L-Ornithine L-Asportato 150 mg Colours:RedOxideoflron & Titanium Dioxide IP Dosage:As directed by tho Physician Do not store above 25c Protectfromlight&moisture Keep out of reach of children CAUTION :Not to bo sold byrotoil Without the prescription ofo coisiorod ModcalPracinond No.TN00003297 Ordoin Heolth Core Globol MLd SurveyNo.532,Uthromarve Rood MelavolompeMoiKarunguchi-603303,Tom7Nodo Marketed by: MICROABS Rogd.Trado Mark of Micro Labs Limtod PPM035901 ORVBF00ZA MICROLABSLIMITED PlotNo.37.CA).147-151.279-281 Ground.Mezzanine.1st&2nd Floor. KAD.B.Joani Bommosondra Unk Rosd Bangalore-562106.Ind',\n",
              "   'entities': [(595, 624, 'MANUFACTURER'),\n",
              "    (265, 285, 'COMPONENT'),\n",
              "    (286, 301, 'COMPONENT'),\n",
              "    (146, 160, 'NAME'),\n",
              "    (107, 121, 'NAME'),\n",
              "    (302, 332, 'COMPONENT'),\n",
              "    (131, 145, 'NAME')]},\n",
              "  {'text': \"EntericCoated Pellets) eq.to Pantoprazole Itopride Hydrochloride (In Sustained Release Form) Excipients Colors:Brilliant Blue.Tartrazine and Titanium Dioxide IP Approved colors used in empty capsule shells Dosage:As directed by the Physician Capsule is to be swallowed as a whole. not to be chewed or crushed EIREFO Hydrochloride SR Capsules EIREF Composition: Each hard gelatin capsule contains: Pantoprazole Sodium IP (As Pantoprazole Sodium Sesquihydrate Enteric Coated Pellets) eq.to Pantoprazole Itopride Hydrochloride (In Sustained Release Form) Excipients Colors:Brilliant Blue.Tartrazine and Titanium Dioxide IP Approved colors used in empty capsule ,uusuaeamenapur.uistt Una.H.P)-174315.India. Marketed by: La Renon Healthcare Pvt.Ltd Ground Floor.Unit No.A and B Suryoday Estate.Near Sunrise Hotel.Ujala Circle.Sarkhej. Ahmedabad-382210.Gujarat.India O-Registered Trade Mark of SCHEDULE H PRE SCHEDULE H PRESCRIPTION DRUGCA EIREFO DRUG-CAUTION 40mg 40 mg prescriptior prescription of a Registered Medica Registered Medical Practitioner 150 mg EIREFO 40 mg 150 mg Una.H.P)-174315.India. La Renone Marketed by: La Renon Healthcare Pvt.Ltd Ground Floor.Unit No.A and B Suryoday Estate.Near Sunrise Hotel.Ujala Circle.Sarkhej. Ahmedabad-382210.Gujarat.India O-Registered Trade Mark of La Renon Healthcare Pvt.Ltd Mfg.Lic.No.:MNB/08/695&MB/08/696 Keep out of reach of children. Storage: Store at a temperature not exceeding 30'C. Protect from light &moisture. Manufactured by: Stanford Laboratories Pvt.Ltd AWHO-GMP&ISO9001Certifed Co 8.Industrial Area.Mehatpur.Distt Una.H.P)-174315.India La Renone Marketed by: La Renon Healthcare Pvt.Ltd Ground Floor.Unit No.A and B Suryoday Estate.Near Sunrise q.s q.s. 200002748 EIREFO EIREFO EIREFO *Pantoprazole Sodium and Itopride $245\",\n",
              "   'entities': [(1482, 1511, 'MANUFACTURER'),\n",
              "    (1723, 1729, 'NAME'),\n",
              "    (93, 103, 'COMPONENT'),\n",
              "    (552, 562, 'COMPONENT'),\n",
              "    (397, 419, 'COMPONENT')]},\n",
              "  {'text': 'oincnaiacnaiauinaiioicna (Sustained ReleaseCapsules LEFITPLUS Compositlon: Each hard golatin capsule contains: Rabeprazole Sodium I.P (As enteric coated pellets) Levosulpiride (As sustained reloaso pellcts) Exciplents Approved colours usod In empty cepsule shells chewed or crushed. SCHEDULCHPRESCRIPTIOHOR LEFITPLUS 20 mg. 75mg. 20mg. 75mg. H2 LEFIT PLUS LEFIT PLUS q.9. Q.S. Compositlon: Each hard golatin capsule contains: Rabeprazole Sodium I.P (As enteric coated pellets) Levosulpiride (As sustained reloaso pellcts) Exciplents ColourRed Oxide of iron Approved colours usod In empty cepsule shells Dosage :As directed by the Physician. Storago:Storo in a cool,dry&dark placo. Protect from light &moisture. Keop all tho medicines out of roach of children. Capsule should be swallowed whole not to be chewed or crushed. Mfg.Lic.No.MNB/18/1042&MB/1&/1043 Tas med Manufactured by: Tas Med (India)Pvt.Ltd Plot No-8.Phase IV.Industrial Area HIMUDA.Bhatoli Kaian.Baddi Distt.Solan (H.P173 205 (Enteric Coated and Levosulpiride LEFITPLUS Composition: Each hard golatin capsule contoins Rabeprazole Sodium I.P (As enteric coated pellets) Levosulpirido (As sustained release pellets) Excipionts ColourRedOxidoofIron Approved coiours used in umpiy capsu  Rabeprazole Sodium',\n",
              "   'entities': [(111, 133, 'COMPONENT'),\n",
              "    (522, 532, 'COMPONENT'),\n",
              "    (207, 217, 'COMPONENT'),\n",
              "    (882, 904, 'MANUFACTURER'),\n",
              "    (307, 316, 'NAME')]},\n",
              "  {'text': 'UoeageAs directeg hylhe Physician Store in a dry olace aa termparature not exceeding 30c Koep out of reach cf children IMFORTANTDo not chew or crush the capsules They should be swallowed whole with water. SCHFDULEH PRESCRIPTION DRUG-CAUTION M.LMNB/07/552 Ma.by Tirupati Medicare Linted Narn RoedPacnta SahibDisSirmour 173 025HPINDIA Cipla Each hard gelatin capsule contains: OmeprazoleIP as enteric coated Pellets.colourTitanium Dioxide lP Colours:litanium DioxideIP BrilliantBlueFCF Carmoisine,Ponceau 4R &Tartrazine in capsule shell Dosage:As directed by the Physician Store in a dry place at a temperature not exceeding 30C Keep out of reach of children IMPORTANT:Do not chew or crush the capsules They should be swallowed whole with water SCHEDULEHPHESCRIPTION DRUG-CAUTION of a Registered Medical Practitione M.L.MNB/07/552 Mid.by Tirupati Medicaro Limted Nahan Rod,Paona Sab Dist Smour 173 25H PYINDIA MAC-200 LOMAC-20LOMAC-20L LOMAC-20LOMAC SCHFDULEH PRESCRIPTION DRUG-CAUTION Net to be sold byetail without the prescnption a Registered Marcal Practitloner Cipla Each hard gelatin capsule contains: OmeprazoleIP as enteric coated Pellets.colourTitanium Dioxide lP Colours:litanium DioxideIP BrilliantBlueFCF Carmoisine,Ponceau 4R &Tartrazine in capsule shell Dosage:As directed by the Physician IMPORTANT:Do not chew or crush the capsules They should be swallowed whole with water SCHEDULEHPHESCRIPTION DRUG-CAUTION Not to be sold byretail without the orescription of a Registered Medical Practitione M.L.MNB/07/552 99313264 99313264 Registered Trademark Marketed by CIPLA LTD Cipla House.Peninsula Business Park Ganoairao Kadam Marg.Lower Parel Mumbai-400 013iNDIA @ RegisteredTrademark MorkotonhuGIPlAlT Rx OMEPRAZOLE GASTRO RESISTANT CAPSULES IP20MG LOMAC-20- 20mg',\n",
              "   'entities': [(261, 285, 'MANUFACTURER'),\n",
              "    (375, 387, 'COMPONENT'),\n",
              "    (1716, 1774, 'NAME')]},\n",
              "  {'text': 'anixa Life Sciences Pv.Ltd. KandivliW).Mumbai400067. Customer CareNo.:1800-22-0408 SCHEDULEHPRESCRIPTION Not to be sola by retall without ts Canixa Life Scionces PvLta. Marketed by apafantapharmatimited Ajanta House,Charkop. 30141 3014121 (AWHO GMP Cerufled Company) K.No.313.RaipurIndustrialArea, Bhagwanpur.Roorkee.Dist.Haridwar, Uttarakhand-247667 Marketed by: oo ajantapharmatinmited Ajanta House.Charkop, KandivliW).Mumbai400067. Customer CareNo.:1800-22-0408 -RogisteredTrodomark Composition: Each entenc coated tablet contains Pantoprazole Sodium Sesquihydrate IP Eq.to Pantoprazole Excipients ColoursRed Oxide of Iron& Titanium Dioxido Ip Dosage: As directed by tho Physician. StorageStore Protectedirom moisturo.ata temperature not exceeding30c Keep the medicino outofrench of children. Direction for Use Do not chew or crush the tablet.Should be swallowed whole. Not to be sola by retall without ts Mg.Lic.No.4/UAV2016 Manufactured by Canixa Life Scionces PvLta. (AWHOGMPCertified Company) KNo.313,RaipurIndustnalAroa Bhagwanpur.Roorkee.Dist.Haridwar Uttarokhand-247e67 Marketed by apafantapharmatimited Ajanta House,Charkop. Kandivti(W.Mumbai 400067. Customer Care No.1800-22-0408 -Reglstorod Trademark Apnicid Apnicid Apnicid 40 .40 Aonicia Apnicid 40 Apnicid 40 Apnicid 40 Aonii40 Apnicid onicid 40 Gastro-Resistant Tablets IP40mg orescniptonotaRooistered Gastro-Resistant 40mg CLS DRUG-CAUTION Medical Practitioner',\n",
              "   'entities': [(534, 570, 'COMPONENT'),\n",
              "    (945, 971, 'MANUFACTURER'),\n",
              "    (1253, 1263, 'NAME'),\n",
              "    (590, 600, 'COMPONENT')]},\n",
              "  {'text': 'Mesacaloon Mesacolon MesacolOD SCHEDULOH PRESCRIPTION DRUG-CAUTION Not to be sold by retail withoutthe prescriptiono a Registered Medical Practitiono Registered Trade Mark MLM/512/09 Manufactured in India by sun pharma laboratories Itd Plot No.754,Setipool,Nandok Block P.O.Ranipool,East Sikkim-737 135 SCHEDULEHPRESORIPTION by retail without.the prescription o a RegisteredMedical Practitioner @Registered Trade Mark MLM/512/09 Each gastro-resistant prolongea release tablet contains MesalamineIP Excipients ColourFerric Oxide(Red)USP-NF Dosage:As directed by the Physician Tablet should be swallowed whole and not to be chewed or crushed Store at room temperature protected from light and moisture Mesacolon R Mesalamine Prolonged Release Tablets IP Each gastro-resistant prolonged release tablet contains: Mesalamine IP Excipients ColourFerric Oxide(RedUSP-NF Dosage:As directed by 1.2g 1.2g q.s. q.s. PBSPF0394E PF0394E Mesacolon Mesacolon',\n",
              "   'entities': [(208, 231, 'MANUFACTURER'),\n",
              "    (498, 508, 'COMPONENT'),\n",
              "    (1, 10, 'NAME'),\n",
              "    (823, 833, 'COMPONENT'),\n",
              "    (0, 1, 'NAME'),\n",
              "    (485, 497, 'COMPONENT')]},\n",
              "  {'text': 'DosageAs arecica yne rnysician. keep medicine out of reach ot chitdren Storage:Store in a cool Cry & darkplace below 25 MoNo.N0&457MVO458 Mid.DyMedwor Pharma 40pPhasoTnana8ad173205 (AGMCOCo) Blazextin-40 Each enteric coated tablet contains Pantoprazole Sodium Sesquihydrate IP eq.toantoprazole Exciplents ColourYellow Oxide ot lron. DosaoeAs directed by the Physician. keep medicine out ot reach of children StorageStee in a cool Cry &dar pice bow 25 Ufesciences AO.4713.NAcyRoo ChEMomb40007 O11.B.OC Emnsosifcincesl.ccen Ma ty MetaMorf Lifesciences AO3NGAC Blazextin Blazextin-40 extin-40 0%0 0S0 SCHEDULE H DRUG WARNNG.TO 68 sold oy real on Ue rescnpon of  RegisterecMedical Practtonar only Tablets 40g q.s.',\n",
              "   'entities': [(294, 304, 'COMPONENT'),\n",
              "    (190, 203, 'NAME'),\n",
              "    (527, 549, 'MANUFACTURER'),\n",
              "    (568, 580, 'NAME'),\n",
              "    (240, 276, 'COMPONENT')]},\n",
              "  {'text': \"iapiet snouig peswalloweu as wnoie,and snouia not be broken.crushed or chewed before swallowing Rabeprazole Gastro-Resistant Tablets IP 20 mg Cognirab-20 Composition: Each enteric coated tablet contains Rabeprazole sodium IP Excipients Colours:Yellow oxide of iron Red oxide of iron & Titanium dioxide IP Dosage:As directed by the Physician Storage:Store protected from light and molsture at a temperature not exceeding 30'C Keep the medicine out of reach of children Tablet should be swallowed as whole and should not be broken.crushed or chewed before swallowing Unnt 7.Level2H wing.limesquure Andherl-kuria Road, Andher(.Mumbai-400058 -Rugistered Trade Mark Marketed by Cognitive Life Sciences Pvt.Ltd. Unit 1.Lovel 2.B Wing.Time Squro Andhoni-kurla Road. Andhen().Mumbai-400050 D-Registorod Trade Mark BFL13 BFL136-0 600 Cognirab-20 Cognirab-20 not be broken.crushed or chewed before swallowing R Each enteric coated tablet contains Mfg.Lic.No.:L16/1795/MNB -0 SCHEDULEH RRESCRIPTION DRUG CAUTION Manufactured In india by BIOALTUS PHARMACEUTICALS PVT.LTD (AWHOGMPCERTIFIEDCOMPANY At19-20.DIC.ind.Are.Badai DistSolan,H.P173205 www.bloaltus.com Nolto.beisoidibyretallwinout.the.preicnpuonoi a Reglstored Medical Practitionen\",\n",
              "   'entities': [(142, 153, 'NAME'),\n",
              "    (1026, 1058, 'MANUFACTURER'),\n",
              "    (225, 235, 'COMPONENT'),\n",
              "    (203, 224, 'COMPONENT')]},\n",
              "  {'text': 'Keep the medicine out of reach of children Dexlansoprazole MR Capsules 30 mg Each HPMC Capsule contains Dexlansoprazole IP 30 mg (as modified release pellets) Colours:Titanium Dioxide IP and Sunset YellowFCF Dosage: As directed by the physician at a temperature not exceeding 25c Keep the medicine out of reach of children Deltone.30Deltone-30Deltone-30Deltone.30D Dexlansoprazole MR Capsules 30 mg Deltone-30 Each HPMC Capsule contains Dexlansoprazole IP 30 mg (as modified release pellets) Colours:Titanium Dioxide IP and Sunset YellowFCF Dosage: As directed by the physician Store protected from light and moisture at a temperature not exceeding 25c Keep the medicine out of reach of children Dexlansoprazole MR Capsules 30 mg Deltone-30 -30 Capsule should be swallowed whole and not to be chewed.opened or crushed Mfg.Lic.No.:M/667/2015 Alembicy Mfd.by Alembic Pharmaceuticals Ltd. Samardung Basti,Karek Block Namthang ilaka,South Sikkim-737126 Regd.Off.:Alembic Road,Vadodara 390003 Regisered TrademarCopyiges ned y Alebic Phaaceticas Ld 20026279',\n",
              "   'entities': [(43, 70, 'NAME'),\n",
              "    (104, 128, 'COMPONENT'),\n",
              "    (857, 885, 'MANUFACTURER')]},\n",
              "  {'text': 'Tabiel should be swallowed wtol and nct ctewed or orushed. NedaineKeep out olean o chidren Diorob-20 *Rabeprazole Tablets IP Each entoric ccated tablet conteira Rabeprazole Sccium IP20 mg Colours Yelow Oxide ct Iron Titanium Dicaide IP Dosage :As directed y the Phyacan Storage:Store protected from light &moisture at a temperature not excending 30C. Tablet shouid be swallowed whcla and nol chewed or crushed Medicinb  Keep out of reach of chidren Diorob-20 73.Sar lnra Hub.H Sakar Healthcare.Changodar. Ta.SananCist.AhmedabadGUARAT(INDIA Marketed Dy Divine Savior (P)Ctd. 73.Siar In b.B Sar Hethcar,Changor T 3anandDist.AhmdabadGUJARAT NDA -Trademark Under Registration -Traemark Under Regsalion Diorob-20 Diorob-20 ST4TR-20 Diorob-20 Diorob-20 oZ-baibis -20 KEOULEHPRESCRIPTIONDRUGYCAUOCN Kot totnohd byretall wihoutheoroaaiptign Diorob-20 cin Robistarod MeureniPractmrrier LicNo31A2013 Manutactured ty Pure  Cure Healthcare P Lt Aaubsidry t Akums Drus &Pharmceuticals Ltd. PlotNo.25A27-30.SecloreAI1E SIDCULHardwa-219 403.Uttaraknd 20132835',\n",
              "   'entities': [(161, 187, 'COMPONENT'),\n",
              "    (890, 933, 'MANUFACTURER'),\n",
              "    (91, 121, 'NAME')]},\n",
              "  {'text': 'temperature notexcoeding3o\\'c Keep out of reach of children Each film coated tablet contains: Acotiamide hydrochloride hydrate colours:Yellow Iron Oxide and Trtanium dioxide I.P ACOTIAMIDE TABLETS 1OOmg Dosage as directed by the doctor. Store protected from moisture at a temperature not excoeding 30c Keep out of reach of children Each film coated tablet contains: Acotiamide hydrochloride hydrate colours: Yellow lron Oxide and Titanium dioxide l.P. Medchal-Malkaigiri(Dist.), Hyderabad-500090,Telangana,INDIA. Manufacturing Licence No.:M/747/2016  Trademark under registration 259732 Manufactured in India by:LUPIN LTD. 4Mile,Bhasmey,Karmarey- Bhasmey Block,Duga ilaka, East Sikkim,Sikkim-737132 Marketed by: Dr.Reddy\\'s Laboratories Ltd. Global Distribution Centre,Survey No.41 BachupailyV)BachupallyM) Medchal-MalkajgiriDist) Hyderabad -500 090,Telangana,INDIA. Manufacturing Licence No.M/747/2016  Trademark under registration 259732 ACOTRUSTTM ACOTRUSTIM 100mg .100mg Dr.Reddy\\'s Dr.Reddy\\'s \"ACOTRUSTTM WarningTo be sold by retail on the prescription of a Registered Medical Practitioneronly.',\n",
              "   'entities': [(93, 125, 'COMPONENT'),\n",
              "    (611, 620, 'MANUFACTURER'),\n",
              "    (949, 959, 'NAME')]}]}"
            ]
          },
          "metadata": {},
          "execution_count": 7
        }
      ]
    },
    {
      "cell_type": "code",
      "source": [
        "len(training_data)"
      ],
      "metadata": {
        "colab": {
          "base_uri": "https://localhost:8080/"
        },
        "id": "fDgicJQJQ2o8",
        "outputId": "e0097063-3090-4ba1-d92a-b5b2d2f39ffc"
      },
      "execution_count": null,
      "outputs": [
        {
          "output_type": "execute_result",
          "data": {
            "text/plain": [
              "2"
            ]
          },
          "metadata": {},
          "execution_count": 6
        }
      ]
    },
    {
      "cell_type": "code",
      "source": [],
      "metadata": {
        "id": "NfHE88UCQ2Cw"
      },
      "execution_count": null,
      "outputs": []
    },
    {
      "cell_type": "code",
      "source": [
        "!python -m spacy download en_core_web_lg -q"
      ],
      "metadata": {
        "id": "NhnqhFmQvwiI"
      },
      "execution_count": null,
      "outputs": []
    },
    {
      "cell_type": "code",
      "source": [
        "!pip install spacy[transformers]"
      ],
      "metadata": {
        "id": "Y3NkutYbwTy4"
      },
      "execution_count": null,
      "outputs": []
    },
    {
      "cell_type": "code",
      "execution_count": null,
      "metadata": {
        "id": "zphuOHS1_0OX"
      },
      "outputs": [],
      "source": [
        "import spacy\n",
        "from spacy.tokens import DocBin\n",
        "from tqdm import tqdm\n",
        "\n",
        "nlp = spacy.blank(\"en\") # load a new spacy model\n",
        "doc_bin = DocBin() # create a DocBin object"
      ]
    },
    {
      "cell_type": "code",
      "execution_count": null,
      "metadata": {
        "colab": {
          "base_uri": "https://localhost:8080/"
        },
        "id": "bEBpyXWT___G",
        "outputId": "2d76601d-08c2-4e82-f3fc-890c3e1f4cc8"
      },
      "outputs": [
        {
          "output_type": "stream",
          "name": "stderr",
          "text": [
            "100%|██████████| 33/33 [00:00<00:00, 239.88it/s]"
          ]
        },
        {
          "output_type": "stream",
          "name": "stdout",
          "text": [
            "Skipping entity\n",
            "Skipping entity\n"
          ]
        },
        {
          "output_type": "stream",
          "name": "stderr",
          "text": [
            "\n"
          ]
        }
      ],
      "source": [
        "from spacy.util import filter_spans\n",
        "\n",
        "for training_example  in tqdm(training_data['annotations']): \n",
        "    text = training_example['text']\n",
        "    labels = training_example['entities']\n",
        "    doc = nlp.make_doc(text) \n",
        "    ents = []\n",
        "    for start, end, label in labels:\n",
        "        span = doc.char_span(start, end, label=label, alignment_mode=\"contract\")\n",
        "        if span is None:\n",
        "            print(\"Skipping entity\")\n",
        "        else:\n",
        "            ents.append(span)\n",
        "    filtered_ents = filter_spans(ents)\n",
        "    doc.ents = filtered_ents \n",
        "    doc_bin.add(doc)\n",
        "\n",
        "doc_bin.to_disk(\"training_data.spacy\")"
      ]
    },
    {
      "cell_type": "code",
      "source": [],
      "metadata": {
        "id": "SYcvXuHISSyj"
      },
      "execution_count": null,
      "outputs": []
    },
    {
      "cell_type": "code",
      "source": [
        "import locale\n",
        "def getpreferredencoding(do_setlocale = True):\n",
        "    return \"UTF-8\"\n",
        "locale.getpreferredencoding = getpreferredencoding"
      ],
      "metadata": {
        "id": "YZaDSVC5wPsb"
      },
      "execution_count": null,
      "outputs": []
    },
    {
      "cell_type": "code",
      "source": [
        "!python -m spacy init fill-config base_config.cfg config.cfg"
      ],
      "metadata": {
        "id": "01h71tOCw6a9"
      },
      "execution_count": null,
      "outputs": []
    },
    {
      "cell_type": "code",
      "source": [
        "!python -m spacy train config.cfg --output ./ --paths.train ./training_data.spacy --paths.dev ./training_data.spacy --gpu-id 0"
      ],
      "metadata": {
        "colab": {
          "base_uri": "https://localhost:8080/"
        },
        "id": "DMKNKBIzxBNz",
        "outputId": "b35d001a-9815-4ef7-aa14-88f43efc2ba2"
      },
      "execution_count": null,
      "outputs": [
        {
          "output_type": "stream",
          "name": "stdout",
          "text": [
            "2023-02-12 15:41:11.192244: W tensorflow/compiler/xla/stream_executor/platform/default/dso_loader.cc:64] Could not load dynamic library 'libnvinfer.so.7'; dlerror: libnvinfer.so.7: cannot open shared object file: No such file or directory; LD_LIBRARY_PATH: /usr/lib64-nvidia\n",
            "2023-02-12 15:41:11.192381: W tensorflow/compiler/xla/stream_executor/platform/default/dso_loader.cc:64] Could not load dynamic library 'libnvinfer_plugin.so.7'; dlerror: libnvinfer_plugin.so.7: cannot open shared object file: No such file or directory; LD_LIBRARY_PATH: /usr/lib64-nvidia\n",
            "2023-02-12 15:41:11.192406: W tensorflow/compiler/tf2tensorrt/utils/py_utils.cc:38] TF-TRT Warning: Cannot dlopen some TensorRT libraries. If you would like to use Nvidia GPU with TensorRT, please make sure the missing libraries mentioned above are installed properly.\n",
            "\u001b[38;5;4mℹ Saving to output directory: .\u001b[0m\n",
            "\u001b[38;5;4mℹ Using GPU: 0\u001b[0m\n",
            "\u001b[1m\n",
            "=========================== Initializing pipeline ===========================\u001b[0m\n",
            "[2023-02-12 15:41:20,369] [INFO] Set up nlp object from config\n",
            "INFO:spacy:Set up nlp object from config\n",
            "[2023-02-12 15:41:20,380] [INFO] Pipeline: ['transformer', 'ner']\n",
            "INFO:spacy:Pipeline: ['transformer', 'ner']\n",
            "[2023-02-12 15:41:20,383] [INFO] Created vocabulary\n",
            "INFO:spacy:Created vocabulary\n",
            "[2023-02-12 15:41:20,384] [INFO] Finished initializing nlp object\n",
            "INFO:spacy:Finished initializing nlp object\n",
            "Downloading (…)lve/main/config.json: 100% 481/481 [00:00<00:00, 80.1kB/s]\n",
            "Downloading (…)olve/main/vocab.json: 100% 899k/899k [00:01<00:00, 821kB/s]\n",
            "Downloading (…)olve/main/merges.txt: 100% 456k/456k [00:01<00:00, 422kB/s]\n",
            "Downloading (…)/main/tokenizer.json: 100% 1.36M/1.36M [00:01<00:00, 1.02MB/s]\n",
            "Downloading (…)\"pytorch_model.bin\";: 100% 501M/501M [00:01<00:00, 259MB/s]\n",
            "Some weights of the model checkpoint at roberta-base were not used when initializing RobertaModel: ['lm_head.dense.weight', 'lm_head.layer_norm.weight', 'lm_head.decoder.weight', 'lm_head.layer_norm.bias', 'lm_head.dense.bias', 'lm_head.bias']\n",
            "- This IS expected if you are initializing RobertaModel from the checkpoint of a model trained on another task or with another architecture (e.g. initializing a BertForSequenceClassification model from a BertForPreTraining model).\n",
            "- This IS NOT expected if you are initializing RobertaModel from the checkpoint of a model that you expect to be exactly identical (initializing a BertForSequenceClassification model from a BertForSequenceClassification model).\n",
            "[2023-02-12 15:42:00,827] [INFO] Initialized pipeline components: ['transformer', 'ner']\n",
            "INFO:spacy:Initialized pipeline components: ['transformer', 'ner']\n",
            "\u001b[38;5;2m✔ Initialized pipeline\u001b[0m\n",
            "\u001b[1m\n",
            "============================= Training pipeline =============================\u001b[0m\n",
            "\u001b[38;5;4mℹ Pipeline: ['transformer', 'ner']\u001b[0m\n",
            "\u001b[38;5;4mℹ Initial learn rate: 0.0\u001b[0m\n",
            "E    #       LOSS TRANS...  LOSS NER  ENTS_F  ENTS_P  ENTS_R  SCORE \n",
            "---  ------  -------------  --------  ------  ------  ------  ------\n",
            "  0       0         951.16    170.53    0.99    0.81    1.26    0.01\n",
            " 50     200       69925.17  29171.62   89.52   90.38   88.68    0.90\n",
            "100     400         578.14   1387.45  100.00  100.00  100.00    1.00\n",
            "150     600           1.47    576.19  100.00  100.00  100.00    1.00\n",
            "200     800           0.00    549.27  100.00  100.00  100.00    1.00\n",
            "250    1000          34.81    609.57   99.37   99.37   99.37    0.99\n",
            "300    1200           3.17    514.71  100.00  100.00  100.00    1.00\n",
            "350    1400          24.85    522.93  100.00  100.00  100.00    1.00\n",
            "400    1600          51.54    556.89   99.68  100.00   99.37    1.00\n",
            "450    1800          15.96    477.25  100.00  100.00  100.00    1.00\n",
            "500    2000          51.98    469.32  100.00  100.00  100.00    1.00\n",
            "\u001b[38;5;2m✔ Saved pipeline to output directory\u001b[0m\n",
            "model-last\n"
          ]
        }
      ]
    },
    {
      "cell_type": "code",
      "source": [
        "!pip install 'spacy[transformers]'"
      ],
      "metadata": {
        "id": "94U2-Xzz2j2f"
      },
      "execution_count": null,
      "outputs": []
    },
    {
      "cell_type": "code",
      "source": [
        "!zip -r ner.zip '/content/model-best'"
      ],
      "metadata": {
        "id": "WuBPDJfkcQyD"
      },
      "execution_count": null,
      "outputs": []
    },
    {
      "cell_type": "code",
      "source": [
        "import spacy_transformers"
      ],
      "metadata": {
        "id": "1jqkJ9ih20iw"
      },
      "execution_count": null,
      "outputs": []
    },
    {
      "cell_type": "code",
      "source": [
        "nlp_ner = spacy.load(\"model-best\")"
      ],
      "metadata": {
        "id": "X_GNJjkMb1HM"
      },
      "execution_count": null,
      "outputs": []
    },
    {
      "cell_type": "code",
      "execution_count": null,
      "metadata": {
        "id": "s3RYmC2WFEao"
      },
      "outputs": [],
      "source": [
        "doc=nlp_ner(\"Each film coated tablet contains you must not take this medicine if you are preonant or may likely become pregnant during treatment. Isotretinoin IP (micronized 10 mg Excipients q.s. anixa Colour:Ponceau 4R Lake Dosage: LifoScionces As directed by the Physician A WHO GMP Certified Company Storage:Store below 25C Manufactured by Protect from sunlight and moisture Canixa Life Sciences Pvt.Ltd KEEP OUT OF REACH OF CHILDREN K.No.313.Raipur Industrial Area.Bhagwanpur See pack insert before use Roorkee,Dist. Haridwar.Uarakhand-247667 Email:info@canixalife.com Mfg.Lic.No.:3/UA/SC/P-2016 TM-Trademark Under RegistraSon Saferet-10 Saferet-10 Saferet-10 sotretinin (micronied)Tablets 10mg A Saferet-10 TM SCHEOULE H PRESCRIPTION DRUG-CAUTION Not to be sold by retail without the prescription of a egitered Medical Practitioner 14-10 WARNING TO FEMALE PATIENTS Composition : This medicine may cause severe birth dedects you must not take this medicine if y ou are pregnant Each film coated tablet contains or may likely become pregnant during treatmant Isotretinoin IP (micronized10 mg Excipients q.s. anixa ColourPonceau 4R Lake Dosage: Lile Scioncos As directed by the Physician (A WHO GMP Certified Company) Storage:Store below 25C Manufactured by: Drntant trom cunlinht and mnichara Canixa Life Sciences Pvt.Ltd\")"
      ]
    },
    {
      "cell_type": "code",
      "execution_count": null,
      "metadata": {
        "colab": {
          "base_uri": "https://localhost:8080/",
          "height": 297
        },
        "id": "x3rgYzIQEsGy",
        "outputId": "c87a4f9a-1bf6-411c-a42e-118f40600820"
      },
      "outputs": [
        {
          "output_type": "display_data",
          "data": {
            "text/plain": [
              "<IPython.core.display.HTML object>"
            ],
            "text/html": [
              "<span class=\"tex2jax_ignore\"><div class=\"entities\" style=\"line-height: 2.5; direction: ltr\">Each film coated tablet contains you must not take this medicine if you are preonant or may likely become pregnant during treatment. \n",
              "<mark class=\"entity\" style=\"background: #F67DE3; padding: 0.45em 0.6em; margin: 0 0.25em; line-height: 1; border-radius: 0.35em;\">\n",
              "    Isotretinoin IP\n",
              "    <span style=\"font-size: 0.8em; font-weight: bold; line-height: 1; border-radius: 0.35em; vertical-align: middle; margin-left: 0.5rem\">COMPONENT</span>\n",
              "</mark>\n",
              " (micronized 10 mg \n",
              "<mark class=\"entity\" style=\"background: #F67DE3; padding: 0.45em 0.6em; margin: 0 0.25em; line-height: 1; border-radius: 0.35em;\">\n",
              "    Excipients\n",
              "    <span style=\"font-size: 0.8em; font-weight: bold; line-height: 1; border-radius: 0.35em; vertical-align: middle; margin-left: 0.5rem\">COMPONENT</span>\n",
              "</mark>\n",
              " q.s. anixa Colour:Ponceau 4R Lake Dosage: LifoScionces As directed by the Physician A WHO GMP Certified Company Storage:Store below 25C Manufactured by Protect from sunlight and moisture \n",
              "<mark class=\"entity\" style=\"background: #FFFFFF; padding: 0.45em 0.6em; margin: 0 0.25em; line-height: 1; border-radius: 0.35em;\">\n",
              "    Canixa Life Sciences Pvt.\n",
              "    <span style=\"font-size: 0.8em; font-weight: bold; line-height: 1; border-radius: 0.35em; vertical-align: middle; margin-left: 0.5rem\">MANUFACTURER</span>\n",
              "</mark>\n",
              "Ltd KEEP OUT OF REACH OF CHILDREN K.No.313.Raipur Industrial Area.Bhagwanpur See pack insert before use Roorkee,Dist. Haridwar.Uarakhand-247667 Email:info@canixalife.com Mfg.Lic.No.:3/UA/SC/P-2016 TM-Trademark Under RegistraSon Saferet-10 Saferet-10 Saferet-10 sotretinin (micronied)Tablets 10mg A \n",
              "<mark class=\"entity\" style=\"background: #7DF6D9; padding: 0.45em 0.6em; margin: 0 0.25em; line-height: 1; border-radius: 0.35em;\">\n",
              "    Saferet-10\n",
              "    <span style=\"font-size: 0.8em; font-weight: bold; line-height: 1; border-radius: 0.35em; vertical-align: middle; margin-left: 0.5rem\">NAME</span>\n",
              "</mark>\n",
              " TM SCHEOULE H PRESCRIPTION DRUG-CAUTION Not to be sold by retail without the prescription of a egitered Medical Practitioner 14-10 WARNING TO FEMALE PATIENTS Composition : This medicine may cause severe birth dedects you must not take this medicine if y ou are pregnant Each film coated tablet contains or may likely become pregnant during treatmant Isotretinoin IP (micronized10 mg \n",
              "<mark class=\"entity\" style=\"background: #F67DE3; padding: 0.45em 0.6em; margin: 0 0.25em; line-height: 1; border-radius: 0.35em;\">\n",
              "    Excipients\n",
              "    <span style=\"font-size: 0.8em; font-weight: bold; line-height: 1; border-radius: 0.35em; vertical-align: middle; margin-left: 0.5rem\">COMPONENT</span>\n",
              "</mark>\n",
              " q.s. anixa ColourPonceau 4R Lake Dosage: Lile Scioncos As directed by the Physician (A WHO GMP Certified Company) Storage:Store below 25C Manufactured by: Drntant trom cunlinht and mnichara \n",
              "<mark class=\"entity\" style=\"background: #FFFFFF; padding: 0.45em 0.6em; margin: 0 0.25em; line-height: 1; border-radius: 0.35em;\">\n",
              "    Canixa Life Sciences Pvt.Ltd\n",
              "    <span style=\"font-size: 0.8em; font-weight: bold; line-height: 1; border-radius: 0.35em; vertical-align: middle; margin-left: 0.5rem\">MANUFACTURER</span>\n",
              "</mark>\n",
              "</div></span>"
            ]
          },
          "metadata": {}
        }
      ],
      "source": [
        "colors = {\"COMPONENT\": \"#F67DE3\", \"NAME\": \"#7DF6D9\", \"MANUFACTURER\":\"#FFFFFF\"}\n",
        "options = {\"colors\": colors} \n",
        "\n",
        "spacy.displacy.render(doc, style=\"ent\", options= options, jupyter=True)"
      ]
    },
    {
      "cell_type": "code",
      "source": [
        "import spacy\n",
        "import pickle\n",
        "\n",
        "# Load your model\n",
        "\n",
        "\n",
        "# Save the model to a pickle file\n",
        "with open(\"/content/drive/MyDrive/spacy_model.pkl\", \"wb\") as f:\n",
        "    pickle.dump(nlp_ner, f)"
      ],
      "metadata": {
        "id": "HjDnD9V0cMQf"
      },
      "execution_count": null,
      "outputs": []
    },
    {
      "cell_type": "code",
      "source": [
        "import pickle\n",
        "\n",
        "# Load the saved model from the pickle file\n",
        "with open(\"spacy_model.pkl\", \"rb\") as f:\n",
        "    nlp = pickle.load(f)"
      ],
      "metadata": {
        "id": "IlIsGqi-dPpX"
      },
      "execution_count": null,
      "outputs": []
    },
    {
      "cell_type": "code",
      "source": [
        "doc=nlp(\"Each film coated tablet contains you must not take this medicine if you are preonant or may likely become pregnant during treatment. Isotretinoin IP (micronized 10 mg Excipients q.s. anixa Colour:Ponceau 4R Lake Dosage: LifoScionces As directed by the Physician A WHO GMP Certified Company Storage:Store below 25C Manufactured by Protect from sunlight and moisture Canixa Life Sciences Pvt.Ltd KEEP OUT OF REACH OF CHILDREN K.No.313.Raipur Industrial Area.Bhagwanpur See pack insert before use Roorkee,Dist. Haridwar.Uarakhand-247667 Email:info@canixalife.com Mfg.Lic.No.:3/UA/SC/P-2016 TM-Trademark Under RegistraSon Saferet-10 Saferet-10 Saferet-10 sotretinin (micronied)Tablets 10mg A Saferet-10 TM SCHEOULE H PRESCRIPTION DRUG-CAUTION Not to be sold by retail without the prescription of a egitered Medical Practitioner 14-10 WARNING TO FEMALE PATIENTS Composition : This medicine may cause severe birth dedects you must not take this medicine if y ou are pregnant Each film coated tablet contains or may likely become pregnant during treatmant Isotretinoin IP (micronized10 mg Excipients q.s. anixa ColourPonceau 4R Lake Dosage: Lile Scioncos As directed by the Physician (A WHO GMP Certified Company) Storage:Store below 25C Manufactured by: Drntant trom cunlinht and mnichara Canixa Life Sciences Pvt.Ltd\")"
      ],
      "metadata": {
        "id": "2WEIafg9dVh-"
      },
      "execution_count": null,
      "outputs": []
    },
    {
      "cell_type": "code",
      "source": [
        "doc1=nlp(\"aber each film coated tablet contain : isotretinoin ip ( micronized ) 10 mg excipient qs . colour : ponceau 4r lake d : life sciences eel ) as directed by the physician . commend p from sunlight and cist ° canal lis selectee part ltd. no . 313 , rabipur industrial area , baganda , ore mp , lc no . :3uascp-2016 ti agen ye nope , saferet10 saferet10 saferet '' 10 * « isotretinoin ( micronized ) tablets 10 mg saferet-10 wre-10 warning to female patient composition : this medicine may cause severe b\")"
      ],
      "metadata": {
        "id": "HZMhRjdVeVJ7"
      },
      "execution_count": null,
      "outputs": []
    },
    {
      "cell_type": "code",
      "source": [
        "colors = {\"COMPONENT\": \"#F67DE3\", \"NAME\": \"#7DF6D9\", \"MANUFACTURER\":\"#FFFFFF\"}\n",
        "options = {\"colors\": colors} \n",
        "\n",
        "spacy.displacy.render(doc1, style=\"ent\", options= options, jupyter=True)"
      ],
      "metadata": {
        "colab": {
          "base_uri": "https://localhost:8080/",
          "height": 122
        },
        "id": "kWiDbIOAdaCf",
        "outputId": "74ab75a0-7154-492b-a9e5-7130e5617cf0"
      },
      "execution_count": null,
      "outputs": [
        {
          "output_type": "display_data",
          "data": {
            "text/plain": [
              "<IPython.core.display.HTML object>"
            ],
            "text/html": [
              "<span class=\"tex2jax_ignore\"><div class=\"entities\" style=\"line-height: 2.5; direction: ltr\">aber each film coated tablet contain : \n",
              "<mark class=\"entity\" style=\"background: #F67DE3; padding: 0.45em 0.6em; margin: 0 0.25em; line-height: 1; border-radius: 0.35em;\">\n",
              "    isotretinoin ip\n",
              "    <span style=\"font-size: 0.8em; font-weight: bold; line-height: 1; border-radius: 0.35em; vertical-align: middle; margin-left: 0.5rem\">COMPONENT</span>\n",
              "</mark>\n",
              " ( micronized ) 10 mg excipient qs . colour : ponceau 4r lake d : life sciences eel ) as directed by the physician . commend p from sunlight and cist ° canal lis selectee part ltd. no . 313 , rabipur industrial area , baganda , ore mp , lc no . :3uascp-2016 ti agen ye nope , saferet10 saferet10 saferet '' 10 * « isotretinoin ( micronized ) tablets 10 mg \n",
              "<mark class=\"entity\" style=\"background: #7DF6D9; padding: 0.45em 0.6em; margin: 0 0.25em; line-height: 1; border-radius: 0.35em;\">\n",
              "    saferet-10\n",
              "    <span style=\"font-size: 0.8em; font-weight: bold; line-height: 1; border-radius: 0.35em; vertical-align: middle; margin-left: 0.5rem\">NAME</span>\n",
              "</mark>\n",
              " wre-10 warning to female patient composition : this medicine may cause severe b</div></span>"
            ]
          },
          "metadata": {}
        }
      ]
    },
    {
      "cell_type": "code",
      "source": [
        "entities_1 = [(ent.text,ent.label_) for ent in doc1.ents]"
      ],
      "metadata": {
        "id": "szPF8GKneC6n"
      },
      "execution_count": null,
      "outputs": []
    },
    {
      "cell_type": "code",
      "source": [
        "entities_1"
      ],
      "metadata": {
        "colab": {
          "base_uri": "https://localhost:8080/"
        },
        "id": "2Y56gUgzgl3p",
        "outputId": "2ee5f550-4a09-4914-e569-a1433b16680e"
      },
      "execution_count": null,
      "outputs": [
        {
          "output_type": "execute_result",
          "data": {
            "text/plain": [
              "[('Metadoxine 500mg&Siymann 140mg', 'COMPONENT'),\n",
              " ('Metadoxine 140mg', 'COMPONENT'),\n",
              " ('Silymarin Livapt Mg', 'MANUFACTURER')]"
            ]
          },
          "metadata": {},
          "execution_count": 38
        }
      ]
    }
  ]
}